{
 "cells": [
  {
   "cell_type": "markdown",
   "metadata": {},
   "source": [
    "# Module 13 Lab - Rule Based Machine Learning\n",
    "\n",
    "## Directions\n",
    "\n",
    "1. Show all work/steps/calculations. Generate a Markdown/code cells for each answer.\n",
    "2. You must submit your lab by the deadline to the Lab section of the Course Module where you downloaded this file from.\n",
    "3. You may use any core Python libraries or Numpy/Scipy. **Additionally, code from the Module notebooks and lectures is fair to use and modify.** You may also consult Stackoverflow (SO). If you use something from SO, please place a comment with the URL to document the code."
   ]
  },
  {
   "cell_type": "code",
   "execution_count": 7,
   "metadata": {},
   "outputs": [
    {
     "name": "stdout",
     "output_type": "stream",
     "text": [
      "Collecting pydotplus\n",
      "  Using cached https://files.pythonhosted.org/packages/60/bf/62567830b700d9f6930e9ab6831d6ba256f7b0b730acb37278b0ccdffacf/pydotplus-2.0.2.tar.gz\n",
      "Requirement already satisfied: pyparsing>=2.0.1 in c:\\programdata\\anaconda3\\lib\\site-packages (from pydotplus)\n",
      "Building wheels for collected packages: pydotplus\n",
      "  Running setup.py bdist_wheel for pydotplus: started\n",
      "  Running setup.py bdist_wheel for pydotplus: finished with status 'done'\n",
      "  Stored in directory: C:\\Users\\Yichen\\AppData\\Local\\pip\\Cache\\wheels\\35\\7b\\ab\\66fb7b2ac1f6df87475b09dc48e707b6e0de80a6d8444e3628\n",
      "Successfully built pydotplus\n",
      "Installing collected packages: pydotplus\n",
      "Successfully installed pydotplus-2.0.2\n"
     ]
    },
    {
     "name": "stderr",
     "output_type": "stream",
     "text": [
      "You are using pip version 9.0.1, however version 19.2.2 is available.\n",
      "You should consider upgrading via the 'python -m pip install --upgrade pip' command.\n"
     ]
    }
   ],
   "source": [
    "!pip install pydotplus"
   ]
  },
  {
   "cell_type": "code",
   "execution_count": 18,
   "metadata": {},
   "outputs": [
    {
     "name": "stdout",
     "output_type": "stream",
     "text": [
      "Collecting graphviz\n",
      "  Downloading https://files.pythonhosted.org/packages/5c/b1/016e657586843f40b4daa66127ce1ee9e3285ff15baf5d80946644a98aeb/graphviz-0.11.1-py2.py3-none-any.whl\n",
      "Installing collected packages: graphviz\n",
      "Successfully installed graphviz-0.11.1\n"
     ]
    },
    {
     "name": "stderr",
     "output_type": "stream",
     "text": [
      "You are using pip version 9.0.1, however version 19.2.2 is available.\n",
      "You should consider upgrading via the 'python -m pip install --upgrade pip' command.\n"
     ]
    }
   ],
   "source": [
    "!pip install graphviz"
   ]
  },
  {
   "cell_type": "code",
   "execution_count": 39,
   "metadata": {},
   "outputs": [],
   "source": [
    "import numpy as np\n",
    "import time\n",
    "import seaborn as sns\n",
    "import matplotlib.pyplot as plt\n",
    "import scipy.stats as stats\n",
    "import pandas as pd\n",
    "import models\n",
    "from sklearn import tree\n",
    "from sklearn.tree import export_graphviz\n",
    "import pydotplus\n",
    "from sklearn.externals.six import StringIO  \n",
    "from IPython.display import Image  \n",
    "from sklearn.model_selection import train_test_split\n",
    "from sklearn.model_selection import KFold\n",
    "from sklearn.metrics import mean_squared_error\n",
    "from sklearn.ensemble import RandomForestRegressor\n",
    "\n",
    "sns.set(style=\"whitegrid\")"
   ]
  },
  {
   "cell_type": "code",
   "execution_count": 2,
   "metadata": {},
   "outputs": [],
   "source": [
    "import graphviz"
   ]
  },
  {
   "cell_type": "markdown",
   "metadata": {},
   "source": [
    "We talked about a wide variety of algorithms this module but we're going to concentrate on just two: Decision Trees and Random Forests.\n",
    "\n",
    "**Problem 1.**\n",
    "\n",
    "Using the insurance data set, construct a Decision Tree to estimate charges using the Scikit Learn Library [Decision Tree](https://scikit-learn.org/stable/modules/tree.html). You should use validation curves to estimate the best tree depth. With this tree depth, perform 3 rounds of 10 fold cross validation to get a sense of generalization error and learning curves to estimate bias/variance trade-off.\n",
    "\n",
    "Visualize the tree if possible. \n",
    "\n",
    "Compare with your linear regression results. Use Bayesian inference to test the difference of means."
   ]
  },
  {
   "cell_type": "code",
   "execution_count": 3,
   "metadata": {},
   "outputs": [],
   "source": [
    "data = pd.read_csv('insurance.csv')"
   ]
  },
  {
   "cell_type": "code",
   "execution_count": 4,
   "metadata": {},
   "outputs": [
    {
     "data": {
      "text/html": [
       "<div>\n",
       "<style scoped>\n",
       "    .dataframe tbody tr th:only-of-type {\n",
       "        vertical-align: middle;\n",
       "    }\n",
       "\n",
       "    .dataframe tbody tr th {\n",
       "        vertical-align: top;\n",
       "    }\n",
       "\n",
       "    .dataframe thead th {\n",
       "        text-align: right;\n",
       "    }\n",
       "</style>\n",
       "<table border=\"1\" class=\"dataframe\">\n",
       "  <thead>\n",
       "    <tr style=\"text-align: right;\">\n",
       "      <th></th>\n",
       "      <th>age</th>\n",
       "      <th>sex</th>\n",
       "      <th>bmi</th>\n",
       "      <th>children</th>\n",
       "      <th>smoker</th>\n",
       "      <th>region</th>\n",
       "      <th>charges</th>\n",
       "    </tr>\n",
       "  </thead>\n",
       "  <tbody>\n",
       "    <tr>\n",
       "      <th>0</th>\n",
       "      <td>19</td>\n",
       "      <td>female</td>\n",
       "      <td>27.900</td>\n",
       "      <td>0</td>\n",
       "      <td>yes</td>\n",
       "      <td>southwest</td>\n",
       "      <td>16884.92400</td>\n",
       "    </tr>\n",
       "    <tr>\n",
       "      <th>1</th>\n",
       "      <td>18</td>\n",
       "      <td>male</td>\n",
       "      <td>33.770</td>\n",
       "      <td>1</td>\n",
       "      <td>no</td>\n",
       "      <td>southeast</td>\n",
       "      <td>1725.55230</td>\n",
       "    </tr>\n",
       "    <tr>\n",
       "      <th>2</th>\n",
       "      <td>28</td>\n",
       "      <td>male</td>\n",
       "      <td>33.000</td>\n",
       "      <td>3</td>\n",
       "      <td>no</td>\n",
       "      <td>southeast</td>\n",
       "      <td>4449.46200</td>\n",
       "    </tr>\n",
       "    <tr>\n",
       "      <th>3</th>\n",
       "      <td>33</td>\n",
       "      <td>male</td>\n",
       "      <td>22.705</td>\n",
       "      <td>0</td>\n",
       "      <td>no</td>\n",
       "      <td>northwest</td>\n",
       "      <td>21984.47061</td>\n",
       "    </tr>\n",
       "    <tr>\n",
       "      <th>4</th>\n",
       "      <td>32</td>\n",
       "      <td>male</td>\n",
       "      <td>28.880</td>\n",
       "      <td>0</td>\n",
       "      <td>no</td>\n",
       "      <td>northwest</td>\n",
       "      <td>3866.85520</td>\n",
       "    </tr>\n",
       "  </tbody>\n",
       "</table>\n",
       "</div>"
      ],
      "text/plain": [
       "   age     sex     bmi  children smoker     region      charges\n",
       "0   19  female  27.900         0    yes  southwest  16884.92400\n",
       "1   18    male  33.770         1     no  southeast   1725.55230\n",
       "2   28    male  33.000         3     no  southeast   4449.46200\n",
       "3   33    male  22.705         0     no  northwest  21984.47061\n",
       "4   32    male  28.880         0     no  northwest   3866.85520"
      ]
     },
     "execution_count": 4,
     "metadata": {},
     "output_type": "execute_result"
    }
   ],
   "source": [
    "data.head()"
   ]
  },
  {
   "cell_type": "code",
   "execution_count": 14,
   "metadata": {},
   "outputs": [],
   "source": [
    "X = data.loc[:,'age':'region']\n",
    "X = pd.get_dummies(X)\n",
    "y = data.loc[:,'charges']\n",
    "X_train, X_test, y_train,y_test = train_test_split(X,y,test_size=.3,random_state=42)\n",
    "r_scores = []\n",
    "for i in range(1,11):\n",
    "    clf = tree.DecisionTreeRegressor(max_depth = i)\n",
    "    clf = clf.fit(X_train,y_train)\n",
    "    r = clf.score(X_test,y_test)\n",
    "    r_scores.append(r)"
   ]
  },
  {
   "cell_type": "code",
   "execution_count": 20,
   "metadata": {},
   "outputs": [
    {
     "data": {
      "image/png": "[encoded data removed]",
      "text/plain": [
       "<matplotlib.figure.Figure at 0x1adb77eec18>"
      ]
     },
     "metadata": {},
     "output_type": "display_data"
    }
   ],
   "source": [
    "fig = plt.figure()\n",
    "ax = fig.add_subplot(1,1,1)\n",
    "ax.plot(range(1,11),r_scores)\n",
    "plt.show()\n",
    "plt.close()"
   ]
  },
  {
   "cell_type": "markdown",
   "metadata": {},
   "source": [
    "It appears that a tree depth of 4 gives the greatest r^2 on the test dataset."
   ]
  },
  {
   "cell_type": "code",
   "execution_count": 27,
   "metadata": {},
   "outputs": [],
   "source": [
    "clf = tree.DecisionTreeRegressor(max_depth = 4)\n",
    "r_scores2 = []\n",
    "sigmas=[]\n",
    "for i in range(3):\n",
    "    kf = KFold(n_splits=10, random_state = i, shuffle = True)\n",
    "    for train_index,test_index in kf.split(X):\n",
    "        X_train, X_test = X.iloc[train_index,],X.iloc[test_index,]\n",
    "        y_train,y_test = y[train_index],y[test_index]\n",
    "        clf.fit(X_train,y_train)\n",
    "        r_scores2.append(clf.score(X_test,y_test))\n",
    "        sigmas.append(np.sqrt(mean_squared_error(y_test,clf.predict(X_test))))"
   ]
  },
  {
   "cell_type": "code",
   "execution_count": 28,
   "metadata": {},
   "outputs": [
    {
     "data": {
      "text/plain": [
       "array([0.76775093, 0.90318345])"
      ]
     },
     "execution_count": 28,
     "metadata": {},
     "output_type": "execute_result"
    }
   ],
   "source": [
    "stats.mstats.mquantiles( r_scores2, [0.05, 0.95])"
   ]
  },
  {
   "cell_type": "code",
   "execution_count": 29,
   "metadata": {},
   "outputs": [
    {
     "data": {
      "text/plain": [
       "array([3996.19573446, 6171.48800519])"
      ]
     },
     "execution_count": 29,
     "metadata": {},
     "output_type": "execute_result"
    }
   ],
   "source": [
    "stats.mstats.mquantiles( sigmas, [0.05, 0.95])"
   ]
  },
  {
   "cell_type": "markdown",
   "metadata": {},
   "source": [
    "It appears that the 90% CI for R^2 is between .76 and .90, and the 90% CI for sigmas is between 3996 and 6171."
   ]
  },
  {
   "cell_type": "markdown",
   "metadata": {},
   "source": [
    "### Validation Curve"
   ]
  },
  {
   "cell_type": "code",
   "execution_count": 34,
   "metadata": {},
   "outputs": [],
   "source": [
    "sigma_train = []\n",
    "sigma_test = []\n",
    "for i in np.linspace(.05,1,20):\n",
    "    data2 = data.sample(frac=i)\n",
    "    X = data2.loc[:,'age':'region']\n",
    "    X = pd.get_dummies(X)\n",
    "    y = data2.loc[:,'charges']\n",
    "    X_train, X_test, y_train,y_test = train_test_split(X,y,test_size=.3,random_state=42)\n",
    "    clf = tree.DecisionTreeRegressor(max_depth = 4)\n",
    "    clf = clf.fit(X_train,y_train)\n",
    "    sigma_train.append(np.sqrt(mean_squared_error(y_train,clf.predict(X_train))))\n",
    "    sigma_test.append(np.sqrt(mean_squared_error(y_test,clf.predict(X_test))))"
   ]
  },
  {
   "cell_type": "code",
   "execution_count": 35,
   "metadata": {},
   "outputs": [
    {
     "data": {
      "image/png": "[encoded data removed]",
      "text/plain": [
       "<matplotlib.figure.Figure at 0x1adb77ffbe0>"
      ]
     },
     "metadata": {},
     "output_type": "display_data"
    }
   ],
   "source": [
    "fig = plt.figure()\n",
    "ax = fig.add_subplot(1,1,1)\n",
    "ax.plot(np.linspace(.05,1,20),sigma_train,color = 'red')\n",
    "ax.plot(np.linspace(.05,1,20),sigma_test,color = 'blue')\n",
    "plt.show()\n",
    "plt.close()"
   ]
  },
  {
   "cell_type": "markdown",
   "metadata": {},
   "source": [
    "It seems that we are in a high bias zone, and that getting additional data will not help the model that much. "
   ]
  },
  {
   "cell_type": "code",
   "execution_count": 38,
   "metadata": {},
   "outputs": [
    {
     "data": {
      "text/html": [
       "<table><tr><th colspan=3>Linear Regression Results</th></tr><th colspan=3>Coefficients</th></tr><tr><th>$\\theta$</th><th></th><th>95% BCI</th></tr><tr><td> ($\\beta_0$)</td><td>-360.25</td><td>(-1210.40, 1008.01)</td></tr><tr><td> age  ($\\beta_1$)</td><td>258.54</td><td>(235.65, 282.17)</td></tr><tr><td> bmi  ($\\beta_2$)</td><td>340.46</td><td>(281.87, 404.54)</td></tr><tr><td> sex_female  ($\\beta_3$)</td><td>-124.34</td><td>(-707.53, 645.45)</td></tr><tr><td> sex_male  ($\\beta_4$)</td><td>-235.91</td><td>(-814.00, 482.25)</td></tr><tr><td> smoker_no  ($\\beta_5$)</td><td>-12111.58</td><td>(-12756.52, -11424.32)</td></tr><tr><td> smoker_yes  ($\\beta_6$)</td><td>11751.33</td><td>(11064.37, 12700.63)</td></tr><tr><td> region_northeast  ($\\beta_7$)</td><td>1039.20</td><td>(-3.94, 2032.97)</td></tr><tr><td> region_northwest ($\\beta_8$)</td><td>735.10</td><td>(-326.94, 1749.20)</td></tr><tr><td>region_southwest ($\\beta_9$)</td><td>122.76</td><td>(-663.35, 869.70)</td></tr><tr><th colspan=3>Metrics</th></tr><tr><td>$\\sigma$</td><td>6091.49</td><td>(5628.26, 6414.41)</td><td></td></tr><tr><td>$R^2$</td><td>0.75</td><td>(0.72, 0.78)</td><td></td></tr></table>"
      ],
      "text/latex": [
       "\\begin{table}[!htbp] \\begin{tabular}{lll} \\hline \\multicolumn{3}{c}{\\textbf{Linear Regression}} \\\\ \\hline \\hline \\multicolumn{3}{l}{\\textbf{Coefficients}}        \\\\ \\hline $\\theta$       &          & 95\\% BCI           \\\\ ($\\beta_0$)      & -360.25   & (-1210.40, 1008.01)          \\\\ age  ($\\beta_1$)      & 258.54   & (235.65, 282.17)          \\\\ bmi  ($\\beta_2$)      & 340.46   & (281.87, 404.54)          \\\\ sex\\_female  ($\\beta_3$)      & -124.34   & (-707.53, 645.45)          \\\\ sex\\_male  ($\\beta_4$)      & -235.91   & (-814.00, 482.25)          \\\\ smoker\\_no  ($\\beta_5$)      & -12111.58   & (-12756.52, -11424.32)          \\\\ smoker\\_yes  ($\\beta_6$)      & 11751.33   & (11064.37, 12700.63)          \\\\ region\\_northeast  ($\\beta_7$)      & 1039.20   & (-3.94, 2032.97)          \\\\ region\\_northwest ($\\beta_8$)      & 735.10   & (-326.94, 1749.20)          \\\\region\\_southwest ($\\beta_9$)      & 122.76   & (-663.35, 869.70)          \\\\\\hline \\multicolumn{3}{l}{\\textbf{Metrics}}             \\\\ \\hline $\\sigma$      & 6091.49   & (5628.26, 6414.41)          \\\\$R^2$      & 0.75   & (0.72, 0.78)          \\\\\\hline\\end{tabular}\\end{table}"
      ],
      "text/plain": [
       "<models.ResultsView at 0x1adb797dbe0>"
      ]
     },
     "execution_count": 38,
     "metadata": {},
     "output_type": "execute_result"
    }
   ],
   "source": [
    "data2 = pd.get_dummies(data)\n",
    "regression = models.bootstrap_linear_regression('charges ~ age + bmi + sex_female + sex_male + smoker_no + smoker_yes + region_northeast + region_northwest+region_southwest',data=data2)\n",
    "models.describe_bootstrap_lr(regression)"
   ]
  },
  {
   "cell_type": "markdown",
   "metadata": {},
   "source": [
    "It appears that compared to the linear regression, the R^2 is slightly more varied in the decision tree, but it seems like the error might be smaller ."
   ]
  },
  {
   "cell_type": "code",
   "execution_count": 6,
   "metadata": {},
   "outputs": [
    {
     "ename": "InvocationException",
     "evalue": "GraphViz's executables not found",
     "output_type": "error",
     "traceback": [
      "\u001b[1;31m---------------------------------------------------------------------------\u001b[0m",
      "\u001b[1;31mInvocationException\u001b[0m                       Traceback (most recent call last)",
      "\u001b[1;32m<ipython-input-6-61b2087b5ffd>\u001b[0m in \u001b[0;36m<module>\u001b[1;34m()\u001b[0m\n\u001b[0;32m      4\u001b[0m                 special_characters=True)\n\u001b[0;32m      5\u001b[0m \u001b[0mgraph\u001b[0m \u001b[1;33m=\u001b[0m \u001b[0mpydotplus\u001b[0m\u001b[1;33m.\u001b[0m\u001b[0mgraph_from_dot_data\u001b[0m\u001b[1;33m(\u001b[0m\u001b[0mdot_data\u001b[0m\u001b[1;33m.\u001b[0m\u001b[0mgetvalue\u001b[0m\u001b[1;33m(\u001b[0m\u001b[1;33m)\u001b[0m\u001b[1;33m)\u001b[0m\u001b[1;33m\u001b[0m\u001b[0m\n\u001b[1;32m----> 6\u001b[1;33m \u001b[0mImage\u001b[0m\u001b[1;33m(\u001b[0m\u001b[0mgraph\u001b[0m\u001b[1;33m.\u001b[0m\u001b[0mcreate_png\u001b[0m\u001b[1;33m(\u001b[0m\u001b[1;33m)\u001b[0m\u001b[1;33m)\u001b[0m\u001b[1;33m\u001b[0m\u001b[0m\n\u001b[0m",
      "\u001b[1;32mC:\\ProgramData\\Anaconda3\\lib\\site-packages\\pydotplus\\graphviz.py\u001b[0m in \u001b[0;36m<lambda>\u001b[1;34m(f, prog)\u001b[0m\n\u001b[0;32m   1795\u001b[0m             self.__setattr__(\n\u001b[0;32m   1796\u001b[0m                 \u001b[1;34m'create_'\u001b[0m \u001b[1;33m+\u001b[0m \u001b[0mfrmt\u001b[0m\u001b[1;33m,\u001b[0m\u001b[1;33m\u001b[0m\u001b[0m\n\u001b[1;32m-> 1797\u001b[1;33m                 \u001b[1;32mlambda\u001b[0m \u001b[0mf\u001b[0m\u001b[1;33m=\u001b[0m\u001b[0mfrmt\u001b[0m\u001b[1;33m,\u001b[0m \u001b[0mprog\u001b[0m\u001b[1;33m=\u001b[0m\u001b[0mself\u001b[0m\u001b[1;33m.\u001b[0m\u001b[0mprog\u001b[0m\u001b[1;33m:\u001b[0m \u001b[0mself\u001b[0m\u001b[1;33m.\u001b[0m\u001b[0mcreate\u001b[0m\u001b[1;33m(\u001b[0m\u001b[0mformat\u001b[0m\u001b[1;33m=\u001b[0m\u001b[0mf\u001b[0m\u001b[1;33m,\u001b[0m \u001b[0mprog\u001b[0m\u001b[1;33m=\u001b[0m\u001b[0mprog\u001b[0m\u001b[1;33m)\u001b[0m\u001b[1;33m\u001b[0m\u001b[0m\n\u001b[0m\u001b[0;32m   1798\u001b[0m             )\n\u001b[0;32m   1799\u001b[0m             \u001b[0mf\u001b[0m \u001b[1;33m=\u001b[0m \u001b[0mself\u001b[0m\u001b[1;33m.\u001b[0m\u001b[0m__dict__\u001b[0m\u001b[1;33m[\u001b[0m\u001b[1;34m'create_'\u001b[0m \u001b[1;33m+\u001b[0m \u001b[0mfrmt\u001b[0m\u001b[1;33m]\u001b[0m\u001b[1;33m\u001b[0m\u001b[0m\n",
      "\u001b[1;32mC:\\ProgramData\\Anaconda3\\lib\\site-packages\\pydotplus\\graphviz.py\u001b[0m in \u001b[0;36mcreate\u001b[1;34m(self, prog, format)\u001b[0m\n\u001b[0;32m   1958\u001b[0m             \u001b[1;32mif\u001b[0m \u001b[0mself\u001b[0m\u001b[1;33m.\u001b[0m\u001b[0mprogs\u001b[0m \u001b[1;32mis\u001b[0m \u001b[1;32mNone\u001b[0m\u001b[1;33m:\u001b[0m\u001b[1;33m\u001b[0m\u001b[0m\n\u001b[0;32m   1959\u001b[0m                 raise InvocationException(\n\u001b[1;32m-> 1960\u001b[1;33m                     'GraphViz\\'s executables not found')\n\u001b[0m\u001b[0;32m   1961\u001b[0m \u001b[1;33m\u001b[0m\u001b[0m\n\u001b[0;32m   1962\u001b[0m         \u001b[1;32mif\u001b[0m \u001b[0mprog\u001b[0m \u001b[1;32mnot\u001b[0m \u001b[1;32min\u001b[0m \u001b[0mself\u001b[0m\u001b[1;33m.\u001b[0m\u001b[0mprogs\u001b[0m\u001b[1;33m:\u001b[0m\u001b[1;33m\u001b[0m\u001b[0m\n",
      "\u001b[1;31mInvocationException\u001b[0m: GraphViz's executables not found"
     ]
    }
   ],
   "source": [
    "# dot_data = StringIO()\n",
    "# export_graphviz(clf, out_file=dot_data,  \n",
    "#                 filled=True, rounded=True,\n",
    "#                 special_characters=True)\n",
    "# graph = pydotplus.graph_from_dot_data(dot_data.getvalue())  \n",
    "# Image(graph.create_png())"
   ]
  },
  {
   "cell_type": "markdown",
   "metadata": {},
   "source": [
    "I can't figure out GraphViz unfortunately"
   ]
  },
  {
   "cell_type": "markdown",
   "metadata": {},
   "source": [
    "** Problem 2.**\n",
    "\n",
    "Now use the [Random Forest](https://scikit-learn.org/stable/modules/generated/sklearn.ensemble.RandomForestRegressor.html) on the insurance data set. Use validation curves to optimize the hyperparameters. Estimate generalization error on 3 rounds of 10 fold cross validation. Instead of learning curves, examine the importance of the features. How does this compare with your linear regression from before?"
   ]
  },
  {
   "cell_type": "code",
   "execution_count": 40,
   "metadata": {},
   "outputs": [],
   "source": [
    "regr = RandomForestRegressor(max_depth=2, random_state=0,n_estimators=100)"
   ]
  },
  {
   "cell_type": "code",
   "execution_count": 43,
   "metadata": {},
   "outputs": [],
   "source": [
    "X = data.loc[:,'age':'region']\n",
    "X = pd.get_dummies(X)\n",
    "y = data.loc[:,'charges']\n",
    "X_train, X_test, y_train,y_test = train_test_split(X,y,test_size=.3,random_state=42)\n",
    "r_scores = []\n",
    "for i in range(1,11):\n",
    "    regr = RandomForestRegressor(max_depth=i, random_state=0,n_estimators=100)\n",
    "    regr = regr.fit(X_train,y_train)\n",
    "    r = regr.score(X_test,y_test)\n",
    "    r_scores.append(r)"
   ]
  },
  {
   "cell_type": "code",
   "execution_count": 44,
   "metadata": {},
   "outputs": [
    {
     "data": {
      "image/png": "[encoded data removed]",
      "text/plain": [
       "<matplotlib.figure.Figure at 0x1adb7da9da0>"
      ]
     },
     "metadata": {},
     "output_type": "display_data"
    }
   ],
   "source": [
    "fig = plt.figure()\n",
    "ax = fig.add_subplot(1,1,1)\n",
    "ax.plot(range(1,11),r_scores)\n",
    "plt.show()\n",
    "plt.close()"
   ]
  },
  {
   "cell_type": "markdown",
   "metadata": {},
   "source": [
    "It seems that around a depth of 5 is where the R^2 is the highest."
   ]
  },
  {
   "cell_type": "code",
   "execution_count": 45,
   "metadata": {},
   "outputs": [],
   "source": [
    "regr = RandomForestRegressor(max_depth=5, random_state=0,n_estimators=100)\n",
    "r_scores2 = []\n",
    "sigmas=[]\n",
    "for i in range(3):\n",
    "    kf = KFold(n_splits=10, random_state = i, shuffle = True)\n",
    "    for train_index,test_index in kf.split(X):\n",
    "        X_train, X_test = X.iloc[train_index,],X.iloc[test_index,]\n",
    "        y_train,y_test = y[train_index],y[test_index]\n",
    "        regr.fit(X_train,y_train)\n",
    "        r_scores2.append(regr.score(X_test,y_test))\n",
    "        sigmas.append(np.sqrt(mean_squared_error(y_test,regr.predict(X_test))))"
   ]
  },
  {
   "cell_type": "code",
   "execution_count": 46,
   "metadata": {},
   "outputs": [
    {
     "data": {
      "text/plain": [
       "array([0.78352763, 0.91066886])"
      ]
     },
     "execution_count": 46,
     "metadata": {},
     "output_type": "execute_result"
    }
   ],
   "source": [
    "stats.mstats.mquantiles( r_scores2, [0.05, 0.95])"
   ]
  },
  {
   "cell_type": "code",
   "execution_count": 47,
   "metadata": {},
   "outputs": [
    {
     "data": {
      "text/plain": [
       "array([3738.45775523, 6054.18288136])"
      ]
     },
     "execution_count": 47,
     "metadata": {},
     "output_type": "execute_result"
    }
   ],
   "source": [
    "stats.mstats.mquantiles( sigmas, [0.05, 0.95])"
   ]
  },
  {
   "cell_type": "markdown",
   "metadata": {},
   "source": [
    "It looks like the 90% CI for r^2 is .78 to .91, while the 90% CI for sigmas is between 3738 and 6054."
   ]
  },
  {
   "cell_type": "code",
   "execution_count": 48,
   "metadata": {},
   "outputs": [],
   "source": [
    "sigma_train = []\n",
    "sigma_test = []\n",
    "for i in np.linspace(.05,1,20):\n",
    "    data2 = data.sample(frac=i)\n",
    "    X = data2.loc[:,'age':'region']\n",
    "    X = pd.get_dummies(X)\n",
    "    y = data2.loc[:,'charges']\n",
    "    X_train, X_test, y_train,y_test = train_test_split(X,y,test_size=.3,random_state=42)\n",
    "    regr = RandomForestRegressor(max_depth=5, random_state=0,n_estimators=100)\n",
    "    regr = regr.fit(X_train,y_train)\n",
    "    sigma_train.append(np.sqrt(mean_squared_error(y_train,regr.predict(X_train))))\n",
    "    sigma_test.append(np.sqrt(mean_squared_error(y_test,regr.predict(X_test))))"
   ]
  },
  {
   "cell_type": "code",
   "execution_count": 49,
   "metadata": {},
   "outputs": [
    {
     "data": {
      "image/png": "[encoded data removed]",
      "text/plain": [
       "<matplotlib.figure.Figure at 0x1adb7db8a90>"
      ]
     },
     "metadata": {},
     "output_type": "display_data"
    }
   ],
   "source": [
    "fig = plt.figure()\n",
    "ax = fig.add_subplot(1,1,1)\n",
    "ax.plot(np.linspace(.05,1,20),sigma_train,color = 'red')\n",
    "ax.plot(np.linspace(.05,1,20),sigma_test,color = 'blue')\n",
    "plt.show()\n",
    "plt.close()"
   ]
  },
  {
   "cell_type": "markdown",
   "metadata": {},
   "source": [
    "It seems like we were initially in a high variance environment, however we are now in a high bias environment and additional data will not help"
   ]
  },
  {
   "cell_type": "code",
   "execution_count": 53,
   "metadata": {},
   "outputs": [
    {
     "data": {
      "text/plain": [
       "array([0.11855896, 0.18585994, 0.00749473, 0.00047908, 0.00053071,\n",
       "       0.27362231, 0.40944854, 0.00175202, 0.00096151, 0.00084721,\n",
       "       0.00044499])"
      ]
     },
     "execution_count": 53,
     "metadata": {},
     "output_type": "execute_result"
    }
   ],
   "source": [
    "regr.feature_importances_"
   ]
  },
  {
   "cell_type": "code",
   "execution_count": 55,
   "metadata": {},
   "outputs": [],
   "source": [
    "importances = []\n",
    "for i in np.linspace(.05,1,20):\n",
    "    data2 = data.sample(frac=i)\n",
    "    X = data2.loc[:,'age':'region']\n",
    "    X = pd.get_dummies(X)\n",
    "    y = data2.loc[:,'charges']\n",
    "    X_train, X_test, y_train,y_test = train_test_split(X,y,test_size=.3,random_state=42)\n",
    "    regr = RandomForestRegressor(max_depth=5, random_state=0,n_estimators=100)\n",
    "    regr = regr.fit(X_train,y_train)\n",
    "    importances.append(regr.feature_importances_)"
   ]
  },
  {
   "cell_type": "code",
   "execution_count": 57,
   "metadata": {},
   "outputs": [
    {
     "data": {
      "text/html": [
       "<div>\n",
       "<style scoped>\n",
       "    .dataframe tbody tr th:only-of-type {\n",
       "        vertical-align: middle;\n",
       "    }\n",
       "\n",
       "    .dataframe tbody tr th {\n",
       "        vertical-align: top;\n",
       "    }\n",
       "\n",
       "    .dataframe thead th {\n",
       "        text-align: right;\n",
       "    }\n",
       "</style>\n",
       "<table border=\"1\" class=\"dataframe\">\n",
       "  <thead>\n",
       "    <tr style=\"text-align: right;\">\n",
       "      <th></th>\n",
       "      <th>0</th>\n",
       "      <th>1</th>\n",
       "      <th>2</th>\n",
       "      <th>3</th>\n",
       "      <th>4</th>\n",
       "      <th>5</th>\n",
       "      <th>6</th>\n",
       "      <th>7</th>\n",
       "      <th>8</th>\n",
       "      <th>9</th>\n",
       "      <th>10</th>\n",
       "    </tr>\n",
       "  </thead>\n",
       "  <tbody>\n",
       "    <tr>\n",
       "      <th>0</th>\n",
       "      <td>0.195670</td>\n",
       "      <td>0.119012</td>\n",
       "      <td>0.087152</td>\n",
       "      <td>0.002680</td>\n",
       "      <td>0.004019</td>\n",
       "      <td>0.367934</td>\n",
       "      <td>0.166930</td>\n",
       "      <td>0.001338</td>\n",
       "      <td>0.005400</td>\n",
       "      <td>0.043830</td>\n",
       "      <td>0.006035</td>\n",
       "    </tr>\n",
       "    <tr>\n",
       "      <th>1</th>\n",
       "      <td>0.168173</td>\n",
       "      <td>0.255990</td>\n",
       "      <td>0.007538</td>\n",
       "      <td>0.001926</td>\n",
       "      <td>0.002301</td>\n",
       "      <td>0.262951</td>\n",
       "      <td>0.282704</td>\n",
       "      <td>0.005119</td>\n",
       "      <td>0.001889</td>\n",
       "      <td>0.002781</td>\n",
       "      <td>0.008629</td>\n",
       "    </tr>\n",
       "    <tr>\n",
       "      <th>2</th>\n",
       "      <td>0.134626</td>\n",
       "      <td>0.167586</td>\n",
       "      <td>0.017997</td>\n",
       "      <td>0.002074</td>\n",
       "      <td>0.000779</td>\n",
       "      <td>0.502936</td>\n",
       "      <td>0.160512</td>\n",
       "      <td>0.002327</td>\n",
       "      <td>0.001530</td>\n",
       "      <td>0.008696</td>\n",
       "      <td>0.000936</td>\n",
       "    </tr>\n",
       "    <tr>\n",
       "      <th>3</th>\n",
       "      <td>0.119618</td>\n",
       "      <td>0.162211</td>\n",
       "      <td>0.013698</td>\n",
       "      <td>0.001920</td>\n",
       "      <td>0.002132</td>\n",
       "      <td>0.364315</td>\n",
       "      <td>0.326486</td>\n",
       "      <td>0.005064</td>\n",
       "      <td>0.001422</td>\n",
       "      <td>0.002454</td>\n",
       "      <td>0.000680</td>\n",
       "    </tr>\n",
       "    <tr>\n",
       "      <th>4</th>\n",
       "      <td>0.080869</td>\n",
       "      <td>0.196716</td>\n",
       "      <td>0.015039</td>\n",
       "      <td>0.001557</td>\n",
       "      <td>0.001553</td>\n",
       "      <td>0.337370</td>\n",
       "      <td>0.358083</td>\n",
       "      <td>0.003369</td>\n",
       "      <td>0.002897</td>\n",
       "      <td>0.001314</td>\n",
       "      <td>0.001233</td>\n",
       "    </tr>\n",
       "    <tr>\n",
       "      <th>5</th>\n",
       "      <td>0.141164</td>\n",
       "      <td>0.196837</td>\n",
       "      <td>0.015505</td>\n",
       "      <td>0.001516</td>\n",
       "      <td>0.001977</td>\n",
       "      <td>0.138646</td>\n",
       "      <td>0.489448</td>\n",
       "      <td>0.001025</td>\n",
       "      <td>0.006638</td>\n",
       "      <td>0.002746</td>\n",
       "      <td>0.004498</td>\n",
       "    </tr>\n",
       "    <tr>\n",
       "      <th>6</th>\n",
       "      <td>0.112123</td>\n",
       "      <td>0.203951</td>\n",
       "      <td>0.024257</td>\n",
       "      <td>0.001669</td>\n",
       "      <td>0.001067</td>\n",
       "      <td>0.147816</td>\n",
       "      <td>0.497434</td>\n",
       "      <td>0.005429</td>\n",
       "      <td>0.002290</td>\n",
       "      <td>0.003055</td>\n",
       "      <td>0.000909</td>\n",
       "    </tr>\n",
       "    <tr>\n",
       "      <th>7</th>\n",
       "      <td>0.153904</td>\n",
       "      <td>0.164190</td>\n",
       "      <td>0.013709</td>\n",
       "      <td>0.001683</td>\n",
       "      <td>0.000965</td>\n",
       "      <td>0.202520</td>\n",
       "      <td>0.456266</td>\n",
       "      <td>0.001205</td>\n",
       "      <td>0.001791</td>\n",
       "      <td>0.001280</td>\n",
       "      <td>0.002487</td>\n",
       "    </tr>\n",
       "    <tr>\n",
       "      <th>8</th>\n",
       "      <td>0.147236</td>\n",
       "      <td>0.177660</td>\n",
       "      <td>0.013304</td>\n",
       "      <td>0.000772</td>\n",
       "      <td>0.001162</td>\n",
       "      <td>0.085721</td>\n",
       "      <td>0.567772</td>\n",
       "      <td>0.001844</td>\n",
       "      <td>0.002695</td>\n",
       "      <td>0.001383</td>\n",
       "      <td>0.000450</td>\n",
       "    </tr>\n",
       "    <tr>\n",
       "      <th>9</th>\n",
       "      <td>0.133254</td>\n",
       "      <td>0.173869</td>\n",
       "      <td>0.009878</td>\n",
       "      <td>0.000277</td>\n",
       "      <td>0.000521</td>\n",
       "      <td>0.289901</td>\n",
       "      <td>0.384618</td>\n",
       "      <td>0.003269</td>\n",
       "      <td>0.001015</td>\n",
       "      <td>0.001585</td>\n",
       "      <td>0.001813</td>\n",
       "    </tr>\n",
       "    <tr>\n",
       "      <th>10</th>\n",
       "      <td>0.125981</td>\n",
       "      <td>0.166296</td>\n",
       "      <td>0.005837</td>\n",
       "      <td>0.000886</td>\n",
       "      <td>0.000641</td>\n",
       "      <td>0.181133</td>\n",
       "      <td>0.512448</td>\n",
       "      <td>0.003048</td>\n",
       "      <td>0.001492</td>\n",
       "      <td>0.000747</td>\n",
       "      <td>0.001492</td>\n",
       "    </tr>\n",
       "    <tr>\n",
       "      <th>11</th>\n",
       "      <td>0.121142</td>\n",
       "      <td>0.181763</td>\n",
       "      <td>0.007892</td>\n",
       "      <td>0.000554</td>\n",
       "      <td>0.000599</td>\n",
       "      <td>0.312908</td>\n",
       "      <td>0.368186</td>\n",
       "      <td>0.003795</td>\n",
       "      <td>0.000389</td>\n",
       "      <td>0.001288</td>\n",
       "      <td>0.001485</td>\n",
       "    </tr>\n",
       "    <tr>\n",
       "      <th>12</th>\n",
       "      <td>0.123101</td>\n",
       "      <td>0.186361</td>\n",
       "      <td>0.011917</td>\n",
       "      <td>0.001758</td>\n",
       "      <td>0.002004</td>\n",
       "      <td>0.367000</td>\n",
       "      <td>0.301661</td>\n",
       "      <td>0.001424</td>\n",
       "      <td>0.002442</td>\n",
       "      <td>0.001716</td>\n",
       "      <td>0.000616</td>\n",
       "    </tr>\n",
       "    <tr>\n",
       "      <th>13</th>\n",
       "      <td>0.121285</td>\n",
       "      <td>0.174719</td>\n",
       "      <td>0.013206</td>\n",
       "      <td>0.000595</td>\n",
       "      <td>0.000640</td>\n",
       "      <td>0.288112</td>\n",
       "      <td>0.395680</td>\n",
       "      <td>0.003259</td>\n",
       "      <td>0.001081</td>\n",
       "      <td>0.000941</td>\n",
       "      <td>0.000483</td>\n",
       "    </tr>\n",
       "    <tr>\n",
       "      <th>14</th>\n",
       "      <td>0.133053</td>\n",
       "      <td>0.172322</td>\n",
       "      <td>0.010066</td>\n",
       "      <td>0.000386</td>\n",
       "      <td>0.000523</td>\n",
       "      <td>0.290530</td>\n",
       "      <td>0.388006</td>\n",
       "      <td>0.001968</td>\n",
       "      <td>0.001558</td>\n",
       "      <td>0.000461</td>\n",
       "      <td>0.001127</td>\n",
       "    </tr>\n",
       "    <tr>\n",
       "      <th>15</th>\n",
       "      <td>0.127204</td>\n",
       "      <td>0.184544</td>\n",
       "      <td>0.009960</td>\n",
       "      <td>0.000463</td>\n",
       "      <td>0.000540</td>\n",
       "      <td>0.309449</td>\n",
       "      <td>0.361875</td>\n",
       "      <td>0.002620</td>\n",
       "      <td>0.001716</td>\n",
       "      <td>0.000842</td>\n",
       "      <td>0.000787</td>\n",
       "    </tr>\n",
       "    <tr>\n",
       "      <th>16</th>\n",
       "      <td>0.118757</td>\n",
       "      <td>0.172644</td>\n",
       "      <td>0.008332</td>\n",
       "      <td>0.000571</td>\n",
       "      <td>0.000443</td>\n",
       "      <td>0.320488</td>\n",
       "      <td>0.375326</td>\n",
       "      <td>0.001006</td>\n",
       "      <td>0.001080</td>\n",
       "      <td>0.000789</td>\n",
       "      <td>0.000564</td>\n",
       "    </tr>\n",
       "    <tr>\n",
       "      <th>17</th>\n",
       "      <td>0.129139</td>\n",
       "      <td>0.177560</td>\n",
       "      <td>0.013874</td>\n",
       "      <td>0.000608</td>\n",
       "      <td>0.000685</td>\n",
       "      <td>0.290489</td>\n",
       "      <td>0.383338</td>\n",
       "      <td>0.001671</td>\n",
       "      <td>0.001153</td>\n",
       "      <td>0.000598</td>\n",
       "      <td>0.000884</td>\n",
       "    </tr>\n",
       "    <tr>\n",
       "      <th>18</th>\n",
       "      <td>0.119008</td>\n",
       "      <td>0.174000</td>\n",
       "      <td>0.009878</td>\n",
       "      <td>0.000276</td>\n",
       "      <td>0.000361</td>\n",
       "      <td>0.372346</td>\n",
       "      <td>0.319281</td>\n",
       "      <td>0.002229</td>\n",
       "      <td>0.000850</td>\n",
       "      <td>0.001067</td>\n",
       "      <td>0.000703</td>\n",
       "    </tr>\n",
       "    <tr>\n",
       "      <th>19</th>\n",
       "      <td>0.122047</td>\n",
       "      <td>0.193893</td>\n",
       "      <td>0.007017</td>\n",
       "      <td>0.000385</td>\n",
       "      <td>0.000394</td>\n",
       "      <td>0.378219</td>\n",
       "      <td>0.294286</td>\n",
       "      <td>0.001671</td>\n",
       "      <td>0.001226</td>\n",
       "      <td>0.000398</td>\n",
       "      <td>0.000465</td>\n",
       "    </tr>\n",
       "  </tbody>\n",
       "</table>\n",
       "</div>"
      ],
      "text/plain": [
       "          0         1         2         3         4         5         6   \\\n",
       "0   0.195670  0.119012  0.087152  0.002680  0.004019  0.367934  0.166930   \n",
       "1   0.168173  0.255990  0.007538  0.001926  0.002301  0.262951  0.282704   \n",
       "2   0.134626  0.167586  0.017997  0.002074  0.000779  0.502936  0.160512   \n",
       "3   0.119618  0.162211  0.013698  0.001920  0.002132  0.364315  0.326486   \n",
       "4   0.080869  0.196716  0.015039  0.001557  0.001553  0.337370  0.358083   \n",
       "5   0.141164  0.196837  0.015505  0.001516  0.001977  0.138646  0.489448   \n",
       "6   0.112123  0.203951  0.024257  0.001669  0.001067  0.147816  0.497434   \n",
       "7   0.153904  0.164190  0.013709  0.001683  0.000965  0.202520  0.456266   \n",
       "8   0.147236  0.177660  0.013304  0.000772  0.001162  0.085721  0.567772   \n",
       "9   0.133254  0.173869  0.009878  0.000277  0.000521  0.289901  0.384618   \n",
       "10  0.125981  0.166296  0.005837  0.000886  0.000641  0.181133  0.512448   \n",
       "11  0.121142  0.181763  0.007892  0.000554  0.000599  0.312908  0.368186   \n",
       "12  0.123101  0.186361  0.011917  0.001758  0.002004  0.367000  0.301661   \n",
       "13  0.121285  0.174719  0.013206  0.000595  0.000640  0.288112  0.395680   \n",
       "14  0.133053  0.172322  0.010066  0.000386  0.000523  0.290530  0.388006   \n",
       "15  0.127204  0.184544  0.009960  0.000463  0.000540  0.309449  0.361875   \n",
       "16  0.118757  0.172644  0.008332  0.000571  0.000443  0.320488  0.375326   \n",
       "17  0.129139  0.177560  0.013874  0.000608  0.000685  0.290489  0.383338   \n",
       "18  0.119008  0.174000  0.009878  0.000276  0.000361  0.372346  0.319281   \n",
       "19  0.122047  0.193893  0.007017  0.000385  0.000394  0.378219  0.294286   \n",
       "\n",
       "          7         8         9         10  \n",
       "0   0.001338  0.005400  0.043830  0.006035  \n",
       "1   0.005119  0.001889  0.002781  0.008629  \n",
       "2   0.002327  0.001530  0.008696  0.000936  \n",
       "3   0.005064  0.001422  0.002454  0.000680  \n",
       "4   0.003369  0.002897  0.001314  0.001233  \n",
       "5   0.001025  0.006638  0.002746  0.004498  \n",
       "6   0.005429  0.002290  0.003055  0.000909  \n",
       "7   0.001205  0.001791  0.001280  0.002487  \n",
       "8   0.001844  0.002695  0.001383  0.000450  \n",
       "9   0.003269  0.001015  0.001585  0.001813  \n",
       "10  0.003048  0.001492  0.000747  0.001492  \n",
       "11  0.003795  0.000389  0.001288  0.001485  \n",
       "12  0.001424  0.002442  0.001716  0.000616  \n",
       "13  0.003259  0.001081  0.000941  0.000483  \n",
       "14  0.001968  0.001558  0.000461  0.001127  \n",
       "15  0.002620  0.001716  0.000842  0.000787  \n",
       "16  0.001006  0.001080  0.000789  0.000564  \n",
       "17  0.001671  0.001153  0.000598  0.000884  \n",
       "18  0.002229  0.000850  0.001067  0.000703  \n",
       "19  0.001671  0.001226  0.000398  0.000465  "
      ]
     },
     "execution_count": 57,
     "metadata": {},
     "output_type": "execute_result"
    }
   ],
   "source": [
    "pd.DataFrame(importances)"
   ]
  },
  {
   "cell_type": "code",
   "execution_count": 58,
   "metadata": {},
   "outputs": [
    {
     "data": {
      "text/plain": [
       "0     0.131368\n",
       "1     0.180106\n",
       "2     0.015803\n",
       "3     0.001128\n",
       "4     0.001165\n",
       "5     0.290539\n",
       "6     0.369517\n",
       "7     0.002634\n",
       "8     0.002028\n",
       "9     0.003899\n",
       "10    0.001814\n",
       "dtype: float64"
      ]
     },
     "execution_count": 58,
     "metadata": {},
     "output_type": "execute_result"
    }
   ],
   "source": [
    "pd.DataFrame(importances).mean()"
   ]
  },
  {
   "cell_type": "markdown",
   "metadata": {},
   "source": [
    "It appears that there's some variability in feature importances. On average, the 5th and 6th variables are the most important, with the 3rd, 4th, 7th, 8th, 9th, and 10th variables barely being important at all."
   ]
  }
 ],
 "metadata": {
  "kernelspec": {
   "display_name": "Python 3",
   "language": "python",
   "name": "python3"
  },
  "language_info": {
   "codemirror_mode": {
    "name": "ipython",
    "version": 3
   },
   "file_extension": ".py",
   "mimetype": "text/x-python",
   "name": "python",
   "nbconvert_exporter": "python",
   "pygments_lexer": "ipython3",
   "version": "3.6.4"
  },
  "toc": {
   "colors": {
    "hover_highlight": "#DAA520",
    "navigate_num": "#000000",
    "navigate_text": "#333333",
    "running_highlight": "#FF0000",
    "selected_highlight": "#FFD700",
    "sidebar_border": "#EEEEEE",
    "wrapper_background": "#FFFFFF"
   },
   "moveMenuLeft": true,
   "nav_menu": {
    "height": "63px",
    "width": "252px"
   },
   "navigate_menu": true,
   "number_sections": true,
   "sideBar": true,
   "threshold": 4,
   "toc_cell": false,
   "toc_section_display": "block",
   "toc_window_display": false,
   "widenNotebook": false
  }
 },
 "nbformat": 4,
 "nbformat_minor": 1
}
