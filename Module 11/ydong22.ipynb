{
 "cells": [
  {
   "cell_type": "code",
   "execution_count": 1,
   "metadata": {},
   "outputs": [],
   "source": [
    "import warnings\n",
    "warnings.filterwarnings('ignore')"
   ]
  },
  {
   "cell_type": "code",
   "execution_count": 2,
   "metadata": {},
   "outputs": [],
   "source": [
    "%matplotlib inline"
   ]
  },
  {
   "cell_type": "markdown",
   "metadata": {},
   "source": [
    "# Module 11 Lab - Model Evaluation\n",
    "\n",
    "## Directions\n",
    "\n",
    "1. Show all work/steps/calculations using Code and Markdown cells.\n",
    "2. Submit your notebook (.ipynb).\n",
    "3. You may use any core Python libraries or Numpy/Scipy. **Additionally, code from the Module notebooks and lectures is fair to use and modify.** You may also consult Stackoverflow (SO). If you use something from SO, please place a comment with the URL to document the code."
   ]
  },
  {
   "cell_type": "code",
   "execution_count": 96,
   "metadata": {},
   "outputs": [],
   "source": [
    "import numpy as np\n",
    "import scipy.stats as stats\n",
    "import seaborn as sns\n",
    "import matplotlib.pyplot as plt\n",
    "import pandas as pd\n",
    "import random\n",
    "import patsy\n",
    "import sklearn.linear_model as linear\n",
    "\n",
    "sns.set(style=\"whitegrid\")\n",
    "# load whatever other libraries you need including models.py\n",
    "import models\n",
    "from sklearn.model_selection import train_test_split\n",
    "from sklearn.model_selection import cross_val_score\n",
    "from sklearn import svm\n",
    "from sklearn.model_selection import KFold\n",
    "import statsmodels.api as sm\n",
    "from sklearn.linear_model import LinearRegression\n",
    "from sklearn.metrics import mean_squared_error\n",
    "from collections import defaultdict"
   ]
  },
  {
   "cell_type": "markdown",
   "metadata": {},
   "source": [
    "## Model Evaluation and Improvement\n",
    "\n",
    "As we saw in both the Linear Regression and Logistic Regression modules, there is a Statistician's view of Model Evaluation (and perhaps, Improvement) and a Machine Learning view of Model Evaluation and Improvement.\n",
    "\n",
    "We'll be working with the insurance data.\n",
    "\n",
    "**1. Load the data, perform your transformations, and using the Bootstrap version of the Linear Regression function, estimate your final model from Lab 10 and show the Bootstrap results**"
   ]
  },
  {
   "cell_type": "code",
   "execution_count": 5,
   "metadata": {},
   "outputs": [],
   "source": [
    "insurance = pd.read_csv('insurance.csv')"
   ]
  },
  {
   "cell_type": "code",
   "execution_count": 26,
   "metadata": {},
   "outputs": [
    {
     "data": {
      "text/html": [
       "<div>\n",
       "<style scoped>\n",
       "    .dataframe tbody tr th:only-of-type {\n",
       "        vertical-align: middle;\n",
       "    }\n",
       "\n",
       "    .dataframe tbody tr th {\n",
       "        vertical-align: top;\n",
       "    }\n",
       "\n",
       "    .dataframe thead th {\n",
       "        text-align: right;\n",
       "    }\n",
       "</style>\n",
       "<table border=\"1\" class=\"dataframe\">\n",
       "  <thead>\n",
       "    <tr style=\"text-align: right;\">\n",
       "      <th></th>\n",
       "      <th>age</th>\n",
       "      <th>bmi</th>\n",
       "      <th>children</th>\n",
       "      <th>charges</th>\n",
       "      <th>age_sq</th>\n",
       "      <th>bmi_above_30</th>\n",
       "      <th>sex_female</th>\n",
       "      <th>sex_male</th>\n",
       "      <th>region_northeast</th>\n",
       "      <th>region_northwest</th>\n",
       "      <th>region_southeast</th>\n",
       "      <th>region_southwest</th>\n",
       "      <th>smoker_no</th>\n",
       "      <th>smoker_yes</th>\n",
       "    </tr>\n",
       "  </thead>\n",
       "  <tbody>\n",
       "    <tr>\n",
       "      <th>0</th>\n",
       "      <td>19</td>\n",
       "      <td>27.900</td>\n",
       "      <td>0</td>\n",
       "      <td>16884.92400</td>\n",
       "      <td>361</td>\n",
       "      <td>0</td>\n",
       "      <td>1</td>\n",
       "      <td>0</td>\n",
       "      <td>0</td>\n",
       "      <td>0</td>\n",
       "      <td>0</td>\n",
       "      <td>1</td>\n",
       "      <td>0</td>\n",
       "      <td>1</td>\n",
       "    </tr>\n",
       "    <tr>\n",
       "      <th>1</th>\n",
       "      <td>18</td>\n",
       "      <td>33.770</td>\n",
       "      <td>1</td>\n",
       "      <td>1725.55230</td>\n",
       "      <td>324</td>\n",
       "      <td>1</td>\n",
       "      <td>0</td>\n",
       "      <td>1</td>\n",
       "      <td>0</td>\n",
       "      <td>0</td>\n",
       "      <td>1</td>\n",
       "      <td>0</td>\n",
       "      <td>1</td>\n",
       "      <td>0</td>\n",
       "    </tr>\n",
       "    <tr>\n",
       "      <th>2</th>\n",
       "      <td>28</td>\n",
       "      <td>33.000</td>\n",
       "      <td>3</td>\n",
       "      <td>4449.46200</td>\n",
       "      <td>784</td>\n",
       "      <td>1</td>\n",
       "      <td>0</td>\n",
       "      <td>1</td>\n",
       "      <td>0</td>\n",
       "      <td>0</td>\n",
       "      <td>1</td>\n",
       "      <td>0</td>\n",
       "      <td>1</td>\n",
       "      <td>0</td>\n",
       "    </tr>\n",
       "    <tr>\n",
       "      <th>3</th>\n",
       "      <td>33</td>\n",
       "      <td>22.705</td>\n",
       "      <td>0</td>\n",
       "      <td>21984.47061</td>\n",
       "      <td>1089</td>\n",
       "      <td>0</td>\n",
       "      <td>0</td>\n",
       "      <td>1</td>\n",
       "      <td>0</td>\n",
       "      <td>1</td>\n",
       "      <td>0</td>\n",
       "      <td>0</td>\n",
       "      <td>1</td>\n",
       "      <td>0</td>\n",
       "    </tr>\n",
       "    <tr>\n",
       "      <th>4</th>\n",
       "      <td>32</td>\n",
       "      <td>28.880</td>\n",
       "      <td>0</td>\n",
       "      <td>3866.85520</td>\n",
       "      <td>1024</td>\n",
       "      <td>0</td>\n",
       "      <td>0</td>\n",
       "      <td>1</td>\n",
       "      <td>0</td>\n",
       "      <td>1</td>\n",
       "      <td>0</td>\n",
       "      <td>0</td>\n",
       "      <td>1</td>\n",
       "      <td>0</td>\n",
       "    </tr>\n",
       "  </tbody>\n",
       "</table>\n",
       "</div>"
      ],
      "text/plain": [
       "   age     bmi  children      charges  age_sq  bmi_above_30  sex_female  \\\n",
       "0   19  27.900         0  16884.92400     361             0           1   \n",
       "1   18  33.770         1   1725.55230     324             1           0   \n",
       "2   28  33.000         3   4449.46200     784             1           0   \n",
       "3   33  22.705         0  21984.47061    1089             0           0   \n",
       "4   32  28.880         0   3866.85520    1024             0           0   \n",
       "\n",
       "   sex_male  region_northeast  region_northwest  region_southeast  \\\n",
       "0         0                 0                 0                 0   \n",
       "1         1                 0                 0                 1   \n",
       "2         1                 0                 0                 1   \n",
       "3         1                 0                 1                 0   \n",
       "4         1                 0                 1                 0   \n",
       "\n",
       "   region_southwest  smoker_no  smoker_yes  \n",
       "0                 1          0           1  \n",
       "1                 0          1           0  \n",
       "2                 0          1           0  \n",
       "3                 0          1           0  \n",
       "4                 0          1           0  "
      ]
     },
     "execution_count": 26,
     "metadata": {},
     "output_type": "execute_result"
    }
   ],
   "source": [
    "insurance2.head()"
   ]
  },
  {
   "cell_type": "code",
   "execution_count": 13,
   "metadata": {},
   "outputs": [],
   "source": [
    "insurance['age_sq'] = insurance['age']**2\n",
    "insurance['bmi_above_30'] = insurance.bmi.apply(lambda bmi: 1 if bmi > 30.0 else 0)"
   ]
  },
  {
   "cell_type": "code",
   "execution_count": 14,
   "metadata": {},
   "outputs": [],
   "source": [
    "insurance2 = pd.get_dummies(insurance,columns=[\"sex\",'region','smoker'])"
   ]
  },
  {
   "cell_type": "code",
   "execution_count": 30,
   "metadata": {},
   "outputs": [],
   "source": [
    "insurance2['smoker_and_bmi'] = insurance2['smoker_yes'] * insurance2['bmi']\n",
    "insurance2['smoker_and_bmi_above_30'] = insurance2['smoker_yes'] * insurance2['bmi_above_30']"
   ]
  },
  {
   "cell_type": "code",
   "execution_count": 78,
   "metadata": {
    "scrolled": false
   },
   "outputs": [
    {
     "data": {
      "text/html": [
       "\n",
       "    <table>\n",
       "    <tr><th> model </th><td> charges ~ age_sq + sex_male + bmi + smoker_yes + smoker_yes:bmi + smoker_yes:bmi_above_30 + children </td></tr>\n",
       "    <tr><th colspan=2>coefficients</th><th>95% BCI</th></tr>\n",
       "    <tr><th> $\\beta_0$ </th><td> 2014.88 </td><td>(695.95, 3340.44)</td></tr><tr><td>  age_sq  ($\\beta_1$) </td><td> 3.34 </td><td>(3.13, 3.54)</tr><tr><td>  sex_male  ($\\beta_2$) </td><td> -516.74 </td><td>(-967.34, -62.78)</tr><tr><td>  bmi  ($\\beta_3$) </td><td> 3.56 </td><td>(-36.93, 48.78)</tr><tr><td>  smoker_yes  ($\\beta_4$) </td><td> 1632.98 </td><td>(-3227.69, 4634.25)</tr><tr><td>  smoker_yes:bmi  ($\\beta_5$) </td><td> 464.32 </td><td>(351.38, 652.89)</tr><tr><td>  smoker_yes:bmi_above_30  ($\\beta_6$) </td><td> 15225.57 </td><td>(13126.93, 16506.76)</tr><tr><td>  children ($\\beta_7$) </td><td> 651.47 </td><td>(529.29, 827.79)</tr><tr><th colspan=2>metrics</th><th>95% BCI</th></tr><tr><th> $\\sigma$ </th><td> 4378.69 </td><td>(3901.86, 4693.46) </td></tr><tr><th> $R^2$ </th><td> 0.87 </td><td>(0.84, 0.90)</td></tr></table>"
      ],
      "text/plain": [
       "<IPython.core.display.HTML object>"
      ]
     },
     "execution_count": 78,
     "metadata": {},
     "output_type": "execute_result"
    }
   ],
   "source": [
    "np.random.seed(11223)\n",
    "model = \"charges ~ age_sq + sex_male + bmi + smoker_yes + smoker_yes:bmi + smoker_yes:bmi_above_30 + children\"\n",
    "final = models.bootstrap_linear_regression(model, data=insurance2)\n",
    "models.describe_bootstrap_lr(final)"
   ]
  },
  {
   "cell_type": "markdown",
   "metadata": {},
   "source": [
    "**2. Perform three rounds of 10-fold cross validation, estimating $R^2$ and $\\sigma$ each round. Using the results for the test data, calculate 95% Bootstrap estimates of the credible intervals for each.** Comment on these intervals and the intervals from above. Are the average values different? Are the intervals different?"
   ]
  },
  {
   "cell_type": "code",
   "execution_count": 84,
   "metadata": {},
   "outputs": [],
   "source": [
    "## some code taken from https://scikit-learn.org/stable/modules/cross_validation.html\n",
    "r2 = []\n",
    "sigma = []\n",
    "clf = LinearRegression()\n",
    "np.random.seed(11224)\n",
    "kf = KFold(n_splits = 10)\n",
    "for i in range(3):\n",
    "    insurance_random = insurance2.sample(frac=1)\n",
    "    X = insurance_random[['age_sq','sex_male','bmi','smoker_yes','smoker_and_bmi','smoker_and_bmi_above_30','children']]\n",
    "    y = insurance_random[['charges']]\n",
    "    for train_index,test_index in kf.split(X):\n",
    "        X_train, X_test, y_train, y_test = X.iloc[train_index,:], X.iloc[test_index,:], y.iloc[train_index,:], y.iloc[test_index,:]\n",
    "        clf.fit(X_train,y_train)\n",
    "        r2.append(clf.score(X_test,y_test))\n",
    "        sigma.append(np.sqrt(mean_squared_error(y_test,clf.predict(X_test))))"
   ]
  },
  {
   "cell_type": "code",
   "execution_count": 85,
   "metadata": {},
   "outputs": [
    {
     "data": {
      "text/plain": [
       "4344.842332988241"
      ]
     },
     "execution_count": 85,
     "metadata": {},
     "output_type": "execute_result"
    }
   ],
   "source": [
    "np.mean(sigma)"
   ]
  },
  {
   "cell_type": "code",
   "execution_count": 87,
   "metadata": {},
   "outputs": [
    {
     "data": {
      "text/plain": [
       "array([3447.68026489, 5357.46633358])"
      ]
     },
     "execution_count": 87,
     "metadata": {},
     "output_type": "execute_result"
    }
   ],
   "source": [
    "stats.mstats.mquantiles( sigma, [0.05, 0.95])"
   ]
  },
  {
   "cell_type": "code",
   "execution_count": 86,
   "metadata": {},
   "outputs": [
    {
     "data": {
      "text/plain": [
       "0.8646699087813502"
      ]
     },
     "execution_count": 86,
     "metadata": {},
     "output_type": "execute_result"
    }
   ],
   "source": [
    "np.mean(r2)"
   ]
  },
  {
   "cell_type": "code",
   "execution_count": 88,
   "metadata": {},
   "outputs": [
    {
     "data": {
      "text/plain": [
       "array([0.76170671, 0.92008367])"
      ]
     },
     "execution_count": 88,
     "metadata": {},
     "output_type": "execute_result"
    }
   ],
   "source": [
    "stats.mstats.mquantiles( r2, [0.05, 0.95])"
   ]
  },
  {
   "cell_type": "code",
   "execution_count": 42,
   "metadata": {},
   "outputs": [
    {
     "data": {
      "text/plain": [
       "array([-0.13643404, -0.09737471, -0.14874846, -0.07066836, -0.10689846,\n",
       "       -0.05972867, -0.07512315, -0.14948728, -0.11545837, -0.10047127])"
      ]
     },
     "execution_count": 42,
     "metadata": {},
     "output_type": "execute_result"
    }
   ],
   "source": [
    "best_svr = svm.SVR(kernel='rbf')\n",
    "cross_val_score(best_svr, X, y, cv=10)"
   ]
  },
  {
   "cell_type": "markdown",
   "metadata": {},
   "source": [
    "It looks like the mean is approximately the same, but the 90% interval is a lot larger."
   ]
  },
  {
   "cell_type": "markdown",
   "metadata": {},
   "source": [
    "**3. Using Learning Curves and $\\sigma$ determine if more data will improve the estimation of the model.**"
   ]
  },
  {
   "cell_type": "code",
   "execution_count": 111,
   "metadata": {},
   "outputs": [],
   "source": [
    "def mse( errors):\n",
    "    n = len( errors)\n",
    "    squared_error = np.sum( [e**2 for e in errors])\n",
    "    return np.sqrt((1.0/n) * squared_error)\n"
   ]
  },
  {
   "cell_type": "code",
   "execution_count": 109,
   "metadata": {},
   "outputs": [],
   "source": [
    "from copy import deepcopy\n",
    "\n",
    "def cross_validate( formula, data, test_size=0.20):\n",
    "    training_mses = []\n",
    "    test_mses = []\n",
    "    \n",
    "    n = data.shape[ 0]\n",
    "    test_n = int( np.round( test_size * n, 0))\n",
    "\n",
    "    indices = deepcopy( data.index).values\n",
    "    random.shuffle( indices)\n",
    "\n",
    "    test_indices = indices[ 0:test_n]\n",
    "    training_indices = indices[test_n:]\n",
    "\n",
    "    test_set = data.ix[ test_indices]\n",
    "    training_set = data.ix[ training_indices]\n",
    "\n",
    "    y, X = patsy.dmatrices( formula, training_set, return_type=\"matrix\")\n",
    "    model = linear.LinearRegression( fit_intercept=False).fit( X, y)\n",
    "    y_hat = model.predict( X)\n",
    "\n",
    "    training_mse = mse( y - y_hat)\n",
    "\n",
    "    y, X = patsy.dmatrices( formula, test_set, return_type=\"matrix\")\n",
    "    y_hat = model.predict( X)\n",
    "\n",
    "    test_mse = mse( y - y_hat)\n",
    "\n",
    "    return training_mse, test_mse"
   ]
  },
  {
   "cell_type": "code",
   "execution_count": 107,
   "metadata": {},
   "outputs": [],
   "source": [
    "def learning_curve( formula, data, increment=0.05, iterations=100, test_size=0.20):\n",
    "    increments = int( 1.0/increment)\n",
    "    chunks = [ int(x) for x in np.linspace( 0, data.shape[ 0], increments)][ 1:]\n",
    "    train = []\n",
    "    test = []\n",
    "    for chunk in chunks:\n",
    "        train_chunk = []\n",
    "        test_chunk = []\n",
    "        for i in range( iterations):\n",
    "            indices = list(range( data.shape[ 0]))\n",
    "            random.shuffle( indices)\n",
    "            chunk_indices = indices[0:chunk]\n",
    "            data_chunk = data.ix[ chunk_indices]\n",
    "            train_mse, test_mse = cross_validate( formula, data_chunk, test_size=test_size)\n",
    "            train_chunk.append( train_mse)\n",
    "            test_chunk.append( test_mse)\n",
    "        train.append( np.mean( train_chunk))\n",
    "        test.append( np.mean( test_chunk))\n",
    "    return chunks, train, test"
   ]
  },
  {
   "cell_type": "code",
   "execution_count": 112,
   "metadata": {},
   "outputs": [],
   "source": [
    "chunks, train, test = learning_curve(model, insurance2, increment = .01) "
   ]
  },
  {
   "cell_type": "code",
   "execution_count": 114,
   "metadata": {},
   "outputs": [
    {
     "data": {
      "image/png": "[encoded data removed]",
      "text/plain": [
       "<matplotlib.figure.Figure at 0x275334474e0>"
      ]
     },
     "metadata": {},
     "output_type": "display_data"
    }
   ],
   "source": [
    "figure = plt.figure(figsize=(10,6))\n",
    "\n",
    "axes = figure.add_subplot(1, 1, 1)\n",
    "\n",
    "axes.plot( chunks, train, 'o-', color=\"steelblue\", alpha=0.75)\n",
    "axes.plot( chunks, test, \"o-\", color=\"firebrick\", alpha=0.75)\n",
    "\n",
    "axes.set_title( \"Learning Curves for y ~ x1, n = 1000\")\n",
    "\n",
    "\n",
    "plt.show()\n",
    "plt.close()"
   ]
  },
  {
   "cell_type": "markdown",
   "metadata": {},
   "source": [
    "Based on what I can see, it does not look like adding additional data will help. "
   ]
  },
  {
   "cell_type": "markdown",
   "metadata": {},
   "source": [
    "**4. It was shown that `age_sq` improved the performance of the model. Perhaps a different polynomial would have been better. Generate Validation Curves for `age` = [1.5, 1.6, 1.7, 1.8, 1.9, 2.0, 2.1, 2.2, 2.3, 2.4, 2.5] and select the best transformation.**"
   ]
  },
  {
   "cell_type": "code",
   "execution_count": 113,
   "metadata": {},
   "outputs": [],
   "source": [
    "def validation_curves( formulas, data, iterations=100, test_size=0.2):\n",
    "    train = []\n",
    "    test = []\n",
    "    for formula in formulas:\n",
    "        train_chunk = []\n",
    "        test_chunk = []\n",
    "        for i in range( iterations):\n",
    "            train_mse, test_mse = cross_validate( formula, data, test_size=test_size)\n",
    "            train_chunk.append( train_mse)\n",
    "            test_chunk.append( test_mse)\n",
    "        train.append( np.mean( train_chunk))\n",
    "        test.append( np.mean( test_chunk))\n",
    "    print(train)\n",
    "    print(test)\n",
    "    return train, test"
   ]
  },
  {
   "cell_type": "code",
   "execution_count": 128,
   "metadata": {},
   "outputs": [
    {
     "name": "stdout",
     "output_type": "stream",
     "text": [
      "[11543.39116545222]\n",
      "[11536.442121478183]\n",
      "[11534.357412079156]\n",
      "[11574.872012276162]\n",
      "[11557.912674022878]\n",
      "[11484.23747070641]\n",
      "[11524.640442036318]\n",
      "[11618.105973458127]\n",
      "[11550.101462953417]\n",
      "[11512.262169100262]\n",
      "[11591.215523489944]\n",
      "[11349.365447438]\n",
      "[11511.620152099465]\n",
      "[11667.569283378405]\n",
      "[11544.563054632636]\n",
      "[11541.266042271136]\n",
      "[11523.375299012754]\n",
      "[11627.535887534263]\n",
      "[11565.281365072942]\n",
      "[11471.169847360801]\n",
      "[11575.605755586703]\n",
      "[11441.303366629512]\n"
     ]
    }
   ],
   "source": [
    "train_list=[]\n",
    "test_list =[]\n",
    "np.random.seed(11125)\n",
    "for i in np.linspace(1.5,2.5,11):\n",
    "    insurance2['age_transform'] = insurance2['age']**i\n",
    "    train_temp, test_temp = validation_curves(['charges ~ age_transform'],insurance2)\n",
    "    train_list = train_list + train_temp\n",
    "    test_list = test_list + test_temp"
   ]
  },
  {
   "cell_type": "code",
   "execution_count": 133,
   "metadata": {},
   "outputs": [
    {
     "data": {
      "image/png": "[encoded data removed]",
      "text/plain": [
       "<matplotlib.figure.Figure at 0x27534babcf8>"
      ]
     },
     "metadata": {},
     "output_type": "display_data"
    }
   ],
   "source": [
    "xs = np.linspace(1.5,2.5,11)\n",
    "figure = plt.figure(figsize=(10,6))\n",
    "\n",
    "axes = figure.add_subplot(1, 1, 1)\n",
    "\n",
    "axes.plot( xs, train_list, 'o-', color=\"steelblue\", alpha=0.75)\n",
    "axes.plot( xs, test_list, \"o-\", color=\"firebrick\", alpha=0.75)\n",
    "#axes.set_xticks(xs)\n",
    "#axes.set_xticklabels(xs)\n",
    "\n",
    "axes.set_title( \"Validation Curves for $x^1.5$ - $x^2.5$\")\n",
    "\n",
    "plt.show()\n",
    "plt.close()"
   ]
  },
  {
   "cell_type": "markdown",
   "metadata": {},
   "source": [
    "It looks a little noisy, but I seems the least biased and least variance point is around age^(2.2). But the test has the lowest error at 2.0, which might be due to just noise"
   ]
  },
  {
   "cell_type": "markdown",
   "metadata": {},
   "source": [
    "**5. Using Ridge Regression to estimate a model for the insurance data. Compare it with your final Linear Regression model.** (If you get far ahead, you may need to write your own function. Here are the sklearn docs: http://scikit-learn.org/stable/modules/linear_model.html)"
   ]
  },
  {
   "cell_type": "code",
   "execution_count": 134,
   "metadata": {},
   "outputs": [
    {
     "data": {
      "text/plain": [
       "Ridge(alpha=0.5, copy_X=True, fit_intercept=True, max_iter=None,\n",
       "   normalize=False, random_state=None, solver='auto', tol=0.001)"
      ]
     },
     "execution_count": 134,
     "metadata": {},
     "output_type": "execute_result"
    }
   ],
   "source": [
    "from sklearn import linear_model\n",
    "reg = linear_model.Ridge(alpha=.5)\n",
    "reg.fit(X,y)"
   ]
  },
  {
   "cell_type": "code",
   "execution_count": 135,
   "metadata": {},
   "outputs": [
    {
     "data": {
      "text/plain": [
       "array([[ 3.34478378e+00, -5.15927086e+02,  3.13879697e+00,\n",
       "         1.07747274e+03,  4.88216339e+02,  1.48813911e+04,\n",
       "         6.51408661e+02]])"
      ]
     },
     "execution_count": 135,
     "metadata": {},
     "output_type": "execute_result"
    }
   ],
   "source": [
    "reg.coef_"
   ]
  },
  {
   "cell_type": "code",
   "execution_count": 136,
   "metadata": {},
   "outputs": [
    {
     "data": {
      "text/plain": [
       "array([2027.83866314])"
      ]
     },
     "execution_count": 136,
     "metadata": {},
     "output_type": "execute_result"
    }
   ],
   "source": [
    "reg.intercept_"
   ]
  },
  {
   "cell_type": "code",
   "execution_count": 138,
   "metadata": {},
   "outputs": [
    {
     "data": {
      "text/plain": [
       "array([ 2.01487513e+03,  3.34469600e+00, -5.16741115e+02,  3.56104037e+00,\n",
       "        1.63298426e+03,  4.64318204e+02,  1.52255672e+04,  6.51467166e+02])"
      ]
     },
     "execution_count": 138,
     "metadata": {},
     "output_type": "execute_result"
    }
   ],
   "source": [
    "final['coefficients']"
   ]
  },
  {
   "cell_type": "markdown",
   "metadata": {},
   "source": [
    "It appears that the intercepts are close, and that most of the betas are very close to each other. The largest difference is the 4th one, which appears to have been \"smoker yes\""
   ]
  },
  {
   "cell_type": "markdown",
   "metadata": {},
   "source": [
    "## Appendix code from lecture pdf"
   ]
  },
  {
   "cell_type": "code",
   "execution_count": 92,
   "metadata": {},
   "outputs": [],
   "source": [
    "def sse(results):\n",
    "    errors = results['residuals']\n",
    "    n = len( errors)\n",
    "    squared_error = np.sum( [e**2 for e in errors])\n",
    "    return np.sqrt((1.0/n) * squared_error)\n"
   ]
  },
  {
   "cell_type": "code",
   "execution_count": 94,
   "metadata": {},
   "outputs": [],
   "source": [
    "def data_collection():\n",
    "    result = dict()\n",
    "    result[ \"train\"] = defaultdict( list)\n",
    "    result[ \"test\"] = defaultdict( list)\n",
    "    return result"
   ]
  },
  {
   "cell_type": "code",
   "execution_count": 99,
   "metadata": {},
   "outputs": [],
   "source": [
    "def chunk(xs, n):\n",
    "    k, m = divmod(len(xs), n)\n",
    "    return [xs[i * k + min(i, m):(i + 1) * k + min(i + 1, m)] for i in range(n)]\n"
   ]
  },
  {
   "cell_type": "code",
   "execution_count": 97,
   "metadata": {},
   "outputs": [],
   "source": [
    "def learning_curves(algorithm, formula, data, evaluate, fold_count=10, repetitions=3,\n",
    "    increment=1):\n",
    "    indices = list(range(len( data)))\n",
    "    results = data_collection()\n",
    "    for _ in range(repetitions):\n",
    "        random.shuffle(indices)\n",
    "        folds = chunk(indices, fold_count)\n",
    "        for fold in folds:\n",
    "            test_data = data.iloc[ fold]\n",
    "            train_indices = [idx for idx in indices if idx not in fold]\n",
    "            train_data = data.iloc[train_indices]\n",
    "            for i in list(range(increment, 100, increment)) + [100]: # ensures 100% is always picked.\n",
    "                # the indices are already shuffled so we only need to take everincreasing chunks\n",
    "                train_chunk_size = int( np.ceil((i/100)*len( train_indices)))\n",
    "                train_data_chunk = data.iloc[train_indices[0:train_chunk_size]]\n",
    "                # we calculate the model\n",
    "                result = algorithm(formula, data=train_data_chunk)\n",
    "                model = result[\"model\"]\n",
    "                # we calculate the results for the training data subset\n",
    "                y, X = patsy.dmatrices( formula, train_data_chunk, return_type=\"matrix\")\n",
    "                result = models.summarize(formula, X, y, model)\n",
    "                metric = evaluate(result)\n",
    "                results[\"train\"][i].append( metric)\n",
    "                # we calculate the results for the test data.\n",
    "                y, X = patsy.dmatrices( formula, test_data, return_type=\"matrix\")\n",
    "                result = models.summarize(formula, X, y, model)\n",
    "                metric = evaluate(result)\n",
    "                results[\"test\"][i].append( metric)\n",
    "    #\n",
    "    #\n",
    "    # process results\n",
    "    # Rely on the CLT...\n",
    "    statistics = {}\n",
    "    for k, v in results[\"train\"].items():\n",
    "        statistics[ k] = (np.mean(v), np.std(v))\n",
    "    results[\"train\"] = statistics\n",
    "    statistics = {}\n",
    "    for k, v in results[\"test\"].items():\n",
    "        statistics[ k] = (np.mean(v), np.std(v))\n",
    "    results[\"test\"] = statistics\n",
    "    return results\n",
    "    #"
   ]
  }
 ],
 "metadata": {
  "kernelspec": {
   "display_name": "Python 3",
   "language": "python",
   "name": "python3"
  },
  "language_info": {
   "codemirror_mode": {
    "name": "ipython",
    "version": 3
   },
   "file_extension": ".py",
   "mimetype": "text/x-python",
   "name": "python",
   "nbconvert_exporter": "python",
   "pygments_lexer": "ipython3",
   "version": "3.6.4"
  },
  "toc": {
   "colors": {
    "hover_highlight": "#DAA520",
    "navigate_num": "#000000",
    "navigate_text": "#333333",
    "running_highlight": "#FF0000",
    "selected_highlight": "#FFD700",
    "sidebar_border": "#EEEEEE",
    "wrapper_background": "#FFFFFF"
   },
   "moveMenuLeft": true,
   "nav_menu": {
    "height": "135px",
    "width": "252px"
   },
   "navigate_menu": true,
   "number_sections": true,
   "sideBar": true,
   "threshold": 4,
   "toc_cell": false,
   "toc_section_display": "block",
   "toc_window_display": false,
   "widenNotebook": false
  }
 },
 "nbformat": 4,
 "nbformat_minor": 1
}
