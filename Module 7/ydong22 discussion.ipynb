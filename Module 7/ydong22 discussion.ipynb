{
 "cells": [
  {
   "cell_type": "markdown",
   "metadata": {},
   "source": [
    "## Average amount of time spent in the league of legends games\n",
    "I would expect the games to be a normal distribution, peaking around 30 minutes in game. For this, I will only use the same game \"map\", aka the fields of justice for those who are familiar with it. I expect this to be normal because the game makers target 30 minutes for the game, so I would expect my playtimes to cluster around that. "
   ]
  },
  {
   "cell_type": "code",
   "execution_count": 15,
   "metadata": {},
   "outputs": [],
   "source": [
    "import numpy as np\n",
    "import time\n",
    "import seaborn as sns\n",
    "import matplotlib.pyplot as plt\n",
    "import scipy.stats as stats\n",
    "import pandas as pd\n",
    "\n",
    "sns.set(style=\"whitegrid\")"
   ]
  },
  {
   "cell_type": "code",
   "execution_count": 2,
   "metadata": {},
   "outputs": [],
   "source": [
    "times= [33.75,12.33,33.9,29.5,44.25,32.9,23.25,41.5,36.6,32.45,35.5,19.75,28.4,24.1,32.25,38.33,33.75,30,29.5,22.75,29.8,27.75]"
   ]
  },
  {
   "cell_type": "code",
   "execution_count": 7,
   "metadata": {},
   "outputs": [
    {
     "name": "stdout",
     "output_type": "stream",
     "text": [
      "mean= 30.559545454545454\n"
     ]
    }
   ],
   "source": [
    "mu = np.mean(times)\n",
    "print('mean=',mu)"
   ]
  },
  {
   "cell_type": "code",
   "execution_count": 8,
   "metadata": {},
   "outputs": [
    {
     "name": "stdout",
     "output_type": "stream",
     "text": [
      "standard deviation is 7.04796003837134\n"
     ]
    }
   ],
   "source": [
    "sd= np.std(times)\n",
    "print('standard deviation is',sd)"
   ]
  },
  {
   "cell_type": "code",
   "execution_count": 13,
   "metadata": {},
   "outputs": [
    {
     "data": {
      "image/png": "[encoded data removed]",
      "text/plain": [
       "<matplotlib.figure.Figure at 0x230d381b4a8>"
      ]
     },
     "metadata": {},
     "output_type": "display_data"
    }
   ],
   "source": [
    "fig = plt.figure()\n",
    "ax = fig.add_subplot(1,1,1)\n",
    "ax.hist(times,bins='auto')\n",
    "xs = np.linspace(10,45,100)\n",
    "ax.plot(xs,stats.norm.pdf(xs,mu,sd)*100)\n",
    "plt.show()\n",
    "plt.close()"
   ]
  },
  {
   "cell_type": "markdown",
   "metadata": {},
   "source": [
    "## Average amount of between car accidents in a single city\n",
    "I would expect the games to be a normal distribution, peaking around 30 minutes in game. For this, I will only use the same game \"map\", aka the fields of justice for those who are familiar with it. The city in question is Somerville, MA. I expect this to be exponential in nature, due to the memorylessness of car accident timings.\n",
    "\n",
    "This data can be downloaded here: https://catalog.data.gov/dataset/motor-vehicle-crash-reports"
   ]
  },
  {
   "cell_type": "code",
   "execution_count": 65,
   "metadata": {
    "collapsed": true
   },
   "outputs": [
    {
     "name": "stderr",
     "output_type": "stream",
     "text": [
      "C:\\ProgramData\\Anaconda3\\lib\\site-packages\\ipykernel_launcher.py:5: SettingWithCopyWarning: \n",
      "A value is trying to be set on a copy of a slice from a DataFrame.\n",
      "Try using .loc[row_indexer,col_indexer] = value instead\n",
      "\n",
      "See the caveats in the documentation: http://pandas.pydata.org/pandas-docs/stable/indexing.html#indexing-view-versus-copy\n",
      "  \"\"\"\n"
     ]
    }
   ],
   "source": [
    "accidents = pd.read_csv('Motor_Vehicle_Crash_Reports.csv')\n",
    "\n",
    "accidents_filtered = accidents.loc[accidents['Time'] != 'unk']\n",
    "\n",
    "accidents_filtered['Datetime'] = pd.to_datetime(accidents_filtered['Date']+' '+accidents_filtered['Time'],format = \"%m/%d/%Y %H:%M\")\n",
    "\n",
    "accidents_filtered = accidents_filtered.sort_values('Datetime')\n",
    "\n",
    "time_diff = (accidents_filtered['Datetime']-accidents_filtered['Datetime'].shift(1)).astype('timedelta64[h]')\n",
    "\n",
    "#getting rid of the first row\n",
    "time_diff = time_diff.loc[~time_diff.isnull()]"
   ]
  },
  {
   "cell_type": "code",
   "execution_count": 64,
   "metadata": {},
   "outputs": [
    {
     "name": "stdout",
     "output_type": "stream",
     "text": [
      "mean 17.52208240809277\n",
      "max 197.0\n",
      "min 0.0\n"
     ]
    }
   ],
   "source": [
    "print('mean',np.mean(time_diff))\n",
    "print('max',np.max(time_diff))\n",
    "print('min',np.min(time_diff))"
   ]
  },
  {
   "cell_type": "code",
   "execution_count": 56,
   "metadata": {},
   "outputs": [
    {
     "data": {
      "image/png": "[encoded data removed]",
      "text/plain": [
       "<matplotlib.figure.Figure at 0x230d379f5f8>"
      ]
     },
     "metadata": {},
     "output_type": "display_data"
    }
   ],
   "source": [
    "fig = plt.figure()\n",
    "ax = fig.add_subplot(1,1,1)\n",
    "ax.hist(time_diff,bins='auto')\n",
    "plt.show()\n",
    "plt.close()"
   ]
  },
  {
   "cell_type": "code",
   "execution_count": 63,
   "metadata": {},
   "outputs": [
    {
     "data": {
      "image/png": "[encoded data removed]",
      "text/plain": [
       "<matplotlib.figure.Figure at 0x230d476deb8>"
      ]
     },
     "metadata": {},
     "output_type": "display_data"
    }
   ],
   "source": [
    "fig = plt.figure()\n",
    "ax = fig.add_subplot(1,1,1)\n",
    "np.random.seed([12448775])\n",
    "exp = np.random.exponential(17.52208240809277,size=len(time_diff))\n",
    "ax.hist(exp,bins='auto')\n",
    "plt.show()\n",
    "plt.close()"
   ]
  },
  {
   "cell_type": "markdown",
   "metadata": {},
   "source": [
    "We can see that this is almost exactly an exponential equation"
   ]
  }
 ],
 "metadata": {
  "kernelspec": {
   "display_name": "Python 3",
   "language": "python",
   "name": "python3"
  },
  "language_info": {
   "codemirror_mode": {
    "name": "ipython",
    "version": 3
   },
   "file_extension": ".py",
   "mimetype": "text/x-python",
   "name": "python",
   "nbconvert_exporter": "python",
   "pygments_lexer": "ipython3",
   "version": "3.6.4"
  }
 },
 "nbformat": 4,
 "nbformat_minor": 2
}
