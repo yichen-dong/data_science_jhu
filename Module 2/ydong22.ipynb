{
 "cells": [
  {
   "cell_type": "markdown",
   "metadata": {},
   "source": [
    "# Module 2 Lab - Probability"
   ]
  },
  {
   "cell_type": "markdown",
   "metadata": {},
   "source": [
    "## Directions\n",
    "\n",
    "**Failure to follow the directions will result in a \"0\"**\n",
    "\n",
    "The due dates for each are indicated in the Syllabus and the course calendar. If anything is unclear, please email EN605.448@gmail.com the official email for the course or ask questions in the Lab discussion area on Blackboard.\n",
    "\n",
    "The Labs also present technical material that augments the lectures and \"book\".  You should read through the entire lab at the start of each module.\n",
    "\n",
    "### General Instructions\n",
    "\n",
    "1.  You will be submitting your assignment to Blackboard. If there are no accompanying files, you should submit *only* your notebook and it should be named using *only* your JHED id: fsmith79.ipynb for example if your JHED id were \"fsmith79\". If the assignment requires additional files, you should name the *folder/directory* your JHED id and put all items in that folder/directory, ZIP it up (only ZIP...no other compression), and submit it to Blackboard.\n",
    "    \n",
    "    * do **not** use absolute paths in your notebooks. All resources should appear in the same directory as the rest of your assignments.\n",
    "    * the directory **must** be named your JHED id and **only** your JHED id.\n",
    "    \n",
    "2. Data Science is as much about what you write (communicating) as the code you execute (researching). In many places, you will be required to execute code and discuss both the purpose and the result. Additionally, Data Science is about reproducibility and transparency. This includes good communication with your team and possibly with yourself. Therefore, you must show **all** work.\n",
    "\n",
    "3. Avail yourself of the Markdown/Codecell nature of the notebook. If you don't know about Markdown, look it up. Your notebooks should not look like ransom notes. Don't make everything bold. Clearly indicate what question you are answering.\n",
    "\n",
    "4. Submit a cleanly executed notebook. It should say `In [1]` for the first codecell and increase by 1 throughout."
   ]
  },
  {
   "cell_type": "markdown",
   "metadata": {},
   "source": [
    "## Manipulating and Interpreting Probability\n",
    "\n",
    "Given the following *joint probability distribution*, $P(A,B)$, for $A$ and $B$,\n",
    "\n",
    "\n",
    "|    | a1   | a2   |\n",
    "|----|------|------|\n",
    "| **b1** | 0.37 | 0.16 |\n",
    "| **b2** | 0.23 | ?    |\n",
    "\n",
    "Answer the following questions.\n",
    "\n",
    "**1\\. What is $P(A=a2, B=b2)$?**"
   ]
  },
  {
   "cell_type": "markdown",
   "metadata": {},
   "source": [
    "It's 1-.37-.16-.23, or .24"
   ]
  },
  {
   "cell_type": "markdown",
   "metadata": {},
   "source": [
    "**2\\. If I observe events from this probability distribution, what is the probability of seeing (a1, b1) then (a2, b2)?**"
   ]
  },
  {
   "cell_type": "markdown",
   "metadata": {},
   "source": [
    "Assuming that they are independent, then the probability will be P(A=a1,B=b1)\\*P(A=a2,B=b2), which is .37*.24 = .0888"
   ]
  },
  {
   "cell_type": "markdown",
   "metadata": {},
   "source": [
    "**3\\. Calculate the marginal probability distribution, $P(A)$.**"
   ]
  },
  {
   "cell_type": "markdown",
   "metadata": {},
   "source": [
    "P(a1) = sum(P(a1,b1),P(a1,b2)) = .37 + .23 = .6\n",
    "P(a2) = .4"
   ]
  },
  {
   "cell_type": "markdown",
   "metadata": {},
   "source": [
    "**4\\. Calculate the marginal probability distribution, $P(B)$.**"
   ]
  },
  {
   "cell_type": "markdown",
   "metadata": {},
   "source": [
    "P(b1) = .37+.16 = .53\n",
    "P(b2) = .23+.24 - .47"
   ]
  },
  {
   "cell_type": "markdown",
   "metadata": {},
   "source": [
    "**5\\. Calculate the conditional probability distribution, $P(A|B)$.**"
   ]
  },
  {
   "cell_type": "markdown",
   "metadata": {},
   "source": [
    "P(A|B) = P(A,B)/P(B)\n",
    "P(a1|b1) = .37/.53 = .698 \n",
    "\n",
    "|    | a1   | a2   |\n",
    "|----|------|------|\n",
    "| **b1** | .7 | 0.3 |\n",
    "| **b2** | 0.49 | .51 |"
   ]
  },
  {
   "cell_type": "markdown",
   "metadata": {},
   "source": [
    "**6\\. Calculate the conditional probability distribution, $P(B|A)$.**"
   ]
  },
  {
   "cell_type": "markdown",
   "metadata": {},
   "source": [
    "P(B|A) = P(a,b)/P(A)\n",
    "\n",
    "|    | a1   | a2   |\n",
    "|----|------|------|\n",
    "| **b1** | .62 | 0.4 |\n",
    "| **b2** | 0.38 | .6 |"
   ]
  },
  {
   "cell_type": "markdown",
   "metadata": {},
   "source": [
    "**7\\. Does $P(A|B) = P(B|A)$? What do we call the belief that these are always equal?**"
   ]
  },
  {
   "cell_type": "markdown",
   "metadata": {},
   "source": [
    "No. The belief that these are equal is called the Inverse Probability Fallacy, and also a version of the Prosecutor's Fallacy. "
   ]
  },
  {
   "cell_type": "markdown",
   "metadata": {},
   "source": [
    "**8\\. Does $P(A) = P(A|B)$? What does that mean about the independence of $A$ and $B$?**"
   ]
  },
  {
   "cell_type": "markdown",
   "metadata": {},
   "source": [
    "If A and B are independent, then that means that P(A&B) = P(A)\\*P(B). Since P(A|B) = P(A,B)/P(B) = P(A)\\*P(B)/P(B) = P(A), it means that in this example A and B are independent. "
   ]
  },
  {
   "cell_type": "markdown",
   "metadata": {},
   "source": [
    "**9\\. Using $P(A)$, $P(B|A)$, $P(B)$ from above, calculate,**\n",
    "\n",
    "$P(A|B) = \\frac{P(B|A)P(A)}{P(B)}$\n",
    "\n",
    "Does it match your previous calculation for $P(A|B)$?"
   ]
  },
  {
   "cell_type": "markdown",
   "metadata": {},
   "source": [
    "P(B|A) = P(A)\\*P(B)/P(A) = P(B)\n",
    "\n",
    "We replace that in the equation to get\n",
    "P(A|B) = P(B)P(A)/P(B) which is P(A), which matches our previous calculations."
   ]
  },
  {
   "cell_type": "markdown",
   "metadata": {},
   "source": [
    "**10\\. If we let A = H (some condition, characteristic, hypothesis) and B = D (some data, evidence, a test result), then how do we interpret each of the following: $P(H)$, $P(D)$, $P(H|D)$, $P(D|H)$, $P(H, D)$?**"
   ]
  },
  {
   "cell_type": "markdown",
   "metadata": {},
   "source": [
    "P(H) would be the prior distribution that we are assuming to be true. \n",
    "\n",
    "P(D) would be the normalizor, aka the probability of that is in the data.\n",
    "\n",
    "P(H|D) would be the posterior probability.\n",
    "\n",
    "P(D|H) would be the likelihood (that the data could occur given the prior distribution)\n",
    "\n",
    "P(H,D) is the probability that the prior distribution and the probability of the data could both be true. \n"
   ]
  },
  {
   "cell_type": "markdown",
   "metadata": {},
   "source": [
    "## Bayes Rule\n",
    "\n",
    "Bayes Rule will be an important part of our toolset in the weeks to come, especially in terms of Bayesian Inference. Work through the following problems in Bayes Rule."
   ]
  },
  {
   "cell_type": "markdown",
   "metadata": {},
   "source": [
    "### Problem 1\n",
    "\n",
    "You might be interested in finding out a patient’s probability of having liver disease if they are an alcoholic. “Being an alcoholic” is the test (kind of like a litmus test) for liver disease.\n",
    "\n",
    "Let `A` be the presence or absence of liver disease (`a` is that they have it; `~a`, \"not a\", is that they don't). Past data tells you that 10% of patients entering your clinic have liver disease.\n",
    "\n",
    "Let `B` be alcoholic (`b`) or not alcoholic (`~b`). 5% of the clinic’s patients are alcoholics.\n",
    "\n",
    "You might also know that among those patients diagnosed with liver disease, 7% are alcoholics.\n",
    "\n",
    "What is P(A|B)? (Remember this is a number of probability distributions, not just a probability)."
   ]
  },
  {
   "cell_type": "markdown",
   "metadata": {},
   "source": [
    "Assuming that the test is 100% accurate and does not introduce bias of its own.\n",
    "P(A|B) will be a 2x2 table\n",
    "\n",
    "P(a) = .1\n",
    "\n",
    "P(~a) = .9\n",
    "\n",
    "P(b) = .05\n",
    "\n",
    "P(~b) = .95\n",
    "\n",
    "P(b|a) = .07\n",
    "\n",
    "\n",
    "So we have P(b|a) = .07 = P(a|b) * P(b)/P(a)\n",
    "\n",
    "P(a|b) = .1/.05*.07 = .14\n",
    "\n",
    "P(~a|b) = 1 - P(a|b) = .86\n",
    "\n",
    "Similarly, we also have P(~b|a) = .93 = P(a|~b)* P(~b)/P(a)\n",
    "\n",
    "P(a|~b) = .1/.95*.93 = .0979\n",
    "\n",
    "and P(~a|~b) = .9021\n",
    "\n",
    "|    | a   | ~a   |\n",
    "|----|------|------|\n",
    "| **b** | .14 | 0.86 |\n",
    "| **~b** | 0.0979 | .9021 |"
   ]
  },
  {
   "cell_type": "markdown",
   "metadata": {},
   "source": [
    "### Problem 2\n",
    "\n",
    "In a particular pain clinic, 10% of patients are prescribed narcotic pain killers. Overall, five percent of the clinic’s patients are addicted to narcotics (including pain killers and illegal substances). Out of all the people prescribed pain pills, 8% are addicts. If a patient is an addict, what is the probability that they will be prescribed pain pills?"
   ]
  },
  {
   "cell_type": "markdown",
   "metadata": {},
   "source": [
    "a1 = prescribed narcotics\n",
    "\n",
    "a2 = not prescribed narcotics\n",
    "\n",
    "b1 = addict\n",
    "\n",
    "b2 = not addict\n",
    "\n",
    "P(a1) = .1\n",
    "\n",
    "P(a2) = .9\n",
    "\n",
    "P(b1) = .05\n",
    "\n",
    "P(b2) = .95\n",
    "\n",
    "P(b1|a1) = .08\n",
    "\n",
    "What is P(a1|b1)? \n",
    "\n",
    "P(a1|b1) = P(b1|a1)* P(a1)/P(b1)\n",
    "\n",
    "P(a1|b1) = .08*.1/.05 = .16"
   ]
  }
 ],
 "metadata": {
  "kernelspec": {
   "display_name": "Python 3",
   "language": "python",
   "name": "python3"
  },
  "language_info": {
   "codemirror_mode": {
    "name": "ipython",
    "version": 3
   },
   "file_extension": ".py",
   "mimetype": "text/x-python",
   "name": "python",
   "nbconvert_exporter": "python",
   "pygments_lexer": "ipython3",
   "version": "3.8.5"
  },
  "toc": {
   "base_numbering": 1,
   "nav_menu": {
    "height": "207px",
    "width": "252px"
   },
   "number_sections": true,
   "sideBar": true,
   "skip_h1_title": false,
   "title_cell": "Table of Contents",
   "title_sidebar": "Contents",
   "toc_cell": false,
   "toc_position": {},
   "toc_section_display": "block",
   "toc_window_display": false
  },
  "varInspector": {
   "cols": {
    "lenName": 16,
    "lenType": 16,
    "lenVar": 40
   },
   "kernels_config": {
    "python": {
     "delete_cmd_postfix": "",
     "delete_cmd_prefix": "del ",
     "library": "var_list.py",
     "varRefreshCmd": "print(var_dic_list())"
    },
    "r": {
     "delete_cmd_postfix": ") ",
     "delete_cmd_prefix": "rm(",
     "library": "var_list.r",
     "varRefreshCmd": "cat(var_dic_list()) "
    }
   },
   "types_to_exclude": [
    "module",
    "function",
    "builtin_function_or_method",
    "instance",
    "_Feature"
   ],
   "window_display": false
  }
 },
 "nbformat": 4,
 "nbformat_minor": 1
}
