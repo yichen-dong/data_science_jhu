{
 "cells": [
  {
   "cell_type": "code",
   "execution_count": 1,
   "metadata": {},
   "outputs": [],
   "source": [
    "%matplotlib inline"
   ]
  },
  {
   "cell_type": "code",
   "execution_count": 2,
   "metadata": {},
   "outputs": [],
   "source": [
    "import numpy as np\n",
    "import time\n",
    "import seaborn as sns\n",
    "import matplotlib.pyplot as plt\n",
    "import scipy.stats as stats\n",
    "\n",
    "sns.set(style=\"whitegrid\")"
   ]
  },
  {
   "cell_type": "markdown",
   "metadata": {},
   "source": [
    "# Problem Set 4 (covers Lab 7)\n",
    "\n",
    "## Directions\n",
    "\n",
    "1. Show all work/steps/calculations using a combination of code and Markdown. You will submit only this notebook named: [jhed_id].ipynb back to Blackboard from whence you downloaded it. Do not return the data to me.\n",
    "2. **All** work is to be your own. This is not a group project. You may, however, use code from the lectures and labs. Provide citations for any code that is not your own. You may also consult Stackoverflow, etc. This is not by any means \"closed book\" or anything like that. Basically, I need to see if *you* learned the concepts from the Lectures, *Fundamentals*, and Labs.\n",
    "3. Add whatever markdown or code cells you need in each part to explain and calculate your answers. Don't just provide answers but explain them as well. **Explain and interpret your results.**"
   ]
  },
  {
   "cell_type": "markdown",
   "metadata": {},
   "source": [
    "## Introduction\n",
    "\n",
    "Lab 7 was all about statistical inference, specifically, Bayesian statistical inference. You will use Bayesian inference on four  problems for this Problem Set [Goto Q1](#q1). You can paste all your code here:"
   ]
  },
  {
   "cell_type": "code",
   "execution_count": 3,
   "metadata": {},
   "outputs": [],
   "source": [
    "def bootstrap_sample( data, f, n=100):\n",
    "    result = []\n",
    "    m = len( data)\n",
    "    for _ in range( n):\n",
    "        sample = np.random.choice( data, len(data), replace=True)\n",
    "        r = f( sample)\n",
    "        result.append( r)\n",
    "    return np.array( result)"
   ]
  },
  {
   "cell_type": "markdown",
   "metadata": {},
   "source": [
    "<a id=\"q1\"></a>\n",
    "**Question 1.**\n",
    "\n",
    "Fifteen volunteers were put on the Supper Dooper Human Kibble Diet(tm) for a month. They were weighed before and after 30 days. The makers of Supper Dooper Human Kibble Diet(tm) are anxious to see the results of this study because they are planning to offer a money back guarantee of \"Lose 10 Pounds in 30 days or your money back!\".\n",
    "\n",
    "Based on the data, \n",
    "\n",
    "1. what is the probability that this claim can be made? \n",
    "2. If daily weight fluctuations can equal 5 pounds (in either direction). How probable is it that the diet doesn't work?\n",
    "3. Is there a positive claim can be made with at least ~66% belief?"
   ]
  },
  {
   "cell_type": "markdown",
   "metadata": {},
   "source": [
    "### part 1"
   ]
  },
  {
   "cell_type": "code",
   "execution_count": 4,
   "metadata": {},
   "outputs": [],
   "source": [
    "data1 = {}\n",
    "data1[\"start\"] = [129, 174, 200, 229, 205, 133, 143, 222, 161, 201, 194, 181, 185, 126, 212]\n",
    "data1[\"end\"] = [134, 171, 190, 227, 206, 130, 129, 218, 138, 187, 191, 177, 183, 124, 205]\n",
    "data1['start'] = np.array(data1['start'])\n",
    "data1['end'] = np.array(data1['end'])"
   ]
  },
  {
   "cell_type": "code",
   "execution_count": 5,
   "metadata": {},
   "outputs": [
    {
     "name": "stdout",
     "output_type": "stream",
     "text": [
      "start mean 179.66666666666666\n",
      "end mean 174.0\n",
      "mean difference 5.666666666666667\n"
     ]
    }
   ],
   "source": [
    "print('start mean',np.mean(data1['start']))\n",
    "print('end mean',np.mean(data1['end']))\n",
    "difference = data1['start'] - data1['end']\n",
    "print('mean difference',np.mean(difference))"
   ]
  },
  {
   "cell_type": "markdown",
   "metadata": {},
   "source": [
    "From just the mean of the difference, it does not seem like this claim could be made."
   ]
  },
  {
   "cell_type": "code",
   "execution_count": 6,
   "metadata": {},
   "outputs": [],
   "source": [
    "np.random.seed([9235274])\n",
    "start_posterior = bootstrap_sample( data1['start'], np.mean, 10000)\n",
    "end_posterior = bootstrap_sample( data1['end'], np.mean, 10000)"
   ]
  },
  {
   "cell_type": "code",
   "execution_count": 7,
   "metadata": {},
   "outputs": [],
   "source": [
    "bs_difference = start_posterior - end_posterior"
   ]
  },
  {
   "cell_type": "code",
   "execution_count": 8,
   "metadata": {},
   "outputs": [
    {
     "data": {
      "image/png": "[encoded data removed]",
      "text/plain": [
       "<matplotlib.figure.Figure at 0x29749188390>"
      ]
     },
     "metadata": {},
     "output_type": "display_data"
    }
   ],
   "source": [
    "figure = plt.figure(figsize=(20, 6)) # first element is width, second is height.\n",
    "\n",
    "axes = figure.add_subplot(1, 3, 1)\n",
    "\n",
    "axes.hist( start_posterior, density=True)\n",
    "axes.set_ylabel( \"Density\")\n",
    "axes.set_xlabel( \"$\\hat{theta}$\")\n",
    "axes.set_title( \"Posterior Distribution of Start's $\\hat{theta}$\")\n",
    "\n",
    "axes = figure.add_subplot(1, 3, 2)\n",
    "\n",
    "axes.hist( end_posterior, density=True)\n",
    "axes.set_ylabel( \"Density\")\n",
    "axes.set_xlabel( \"$\\hat{theta}$\")\n",
    "axes.set_title( \"Posterior Distribution of End's $\\hat{theta}$\")\n",
    "\n",
    "axes = figure.add_subplot(1, 3, 3)\n",
    "\n",
    "axes.hist( bs_difference, density=True)\n",
    "axes.set_ylabel( \"Density\")\n",
    "axes.set_xlabel( \"difference in $\\hat{theta}$\")\n",
    "axes.set_title( \"Posterior Distribution of Difference in $\\hat{theta}$s\")\n",
    "\n",
    "plt.show()\n",
    "plt.close()"
   ]
  },
  {
   "cell_type": "code",
   "execution_count": 9,
   "metadata": {},
   "outputs": [
    {
     "name": "stdout",
     "output_type": "stream",
     "text": [
      "90% BCI for start's theta: [165.6 193.4]\n",
      "90% BCI for end's theta: [159.93333333 188.13333333]\n",
      "90% BCI for difference: [-13.86666667  25.4       ]\n"
     ]
    }
   ],
   "source": [
    "print( \"90% BCI for start's theta:\", stats.mstats.mquantiles( start_posterior, [0.05, 0.95]))\n",
    "print( \"90% BCI for end's theta:\", stats.mstats.mquantiles( end_posterior, [0.05, 0.95]))\n",
    "print( \"90% BCI for difference:\", stats.mstats.mquantiles( bs_difference, [0.05, 0.95]))"
   ]
  },
  {
   "cell_type": "markdown",
   "metadata": {},
   "source": [
    "It seems that the true difference is not clearly different from 0, even with the large number of bootstrap samples."
   ]
  },
  {
   "cell_type": "code",
   "execution_count": 10,
   "metadata": {},
   "outputs": [
    {
     "data": {
      "text/plain": [
       "0.3659"
      ]
     },
     "execution_count": 10,
     "metadata": {},
     "output_type": "execute_result"
    }
   ],
   "source": [
    "np.mean(bs_difference >= 10)"
   ]
  },
  {
   "cell_type": "markdown",
   "metadata": {},
   "source": [
    "It appears that there is only a 36.6% chance that this claim could be made. "
   ]
  },
  {
   "cell_type": "markdown",
   "metadata": {},
   "source": [
    "### part 2"
   ]
  },
  {
   "cell_type": "code",
   "execution_count": 11,
   "metadata": {},
   "outputs": [],
   "source": [
    "np.random.seed([9235274])\n",
    "part2_start_result = []\n",
    "part2_end_result = []\n",
    "for i in range (1000):\n",
    "    start = data1[\"start\"] + np.random.uniform(-5,5,size=len(data1['start']))\n",
    "    end = data1[\"end\"] + np.random.uniform(-5,5,size=len(data1['end']))\n",
    "    part2_start_result.append(np.mean(start))\n",
    "    part2_end_result.append(np.mean(end))\n"
   ]
  },
  {
   "cell_type": "code",
   "execution_count": 12,
   "metadata": {},
   "outputs": [],
   "source": [
    "part2_start_result = np.array(part2_start_result)\n",
    "part2_end_result = np.array(part2_end_result)\n",
    "rand_difference = part2_start_result - part2_end_result"
   ]
  },
  {
   "cell_type": "code",
   "execution_count": 13,
   "metadata": {},
   "outputs": [
    {
     "data": {
      "image/png": "[encoded data removed]",
      "text/plain": [
       "<matplotlib.figure.Figure at 0x29748fa4c18>"
      ]
     },
     "metadata": {},
     "output_type": "display_data"
    }
   ],
   "source": [
    "figure = plt.figure(figsize=(20, 6)) # first element is width, second is height.\n",
    "\n",
    "axes = figure.add_subplot(1, 3, 1)\n",
    "\n",
    "axes.hist( part2_start_result, density=True)\n",
    "axes.set_ylabel( \"Density\")\n",
    "axes.set_xlabel( \"$\\hat{theta}$\")\n",
    "axes.set_title( \"Posterior Distribution of Men's $\\hat{theta}$\")\n",
    "\n",
    "axes = figure.add_subplot(1, 3, 2)\n",
    "\n",
    "axes.hist( part2_end_result, density=True)\n",
    "axes.set_ylabel( \"Density\")\n",
    "axes.set_xlabel( \"$\\hat{theta}$\")\n",
    "axes.set_title( \"Posterior Distribution of Women's $\\hat{theta}$\")\n",
    "\n",
    "axes = figure.add_subplot(1, 3, 3)\n",
    "\n",
    "axes.hist( rand_difference, density=True)\n",
    "axes.set_ylabel( \"Density\")\n",
    "axes.set_xlabel( \"difference in $\\hat{theta}$\")\n",
    "axes.set_title( \"Posterior Distribution of Difference in $\\hat{theta}$s\")\n",
    "\n",
    "plt.show()\n",
    "plt.close()"
   ]
  },
  {
   "cell_type": "code",
   "execution_count": 14,
   "metadata": {},
   "outputs": [
    {
     "name": "stdout",
     "output_type": "stream",
     "text": [
      "90% BCI for start's theta: [178.44946138 180.87687438]\n",
      "90% BCI for end's theta: [172.7436259  175.16423968]\n",
      "90% BCI for difference: [4.07393057 7.39699168]\n"
     ]
    }
   ],
   "source": [
    "print( \"90% BCI for start's theta:\", stats.mstats.mquantiles( part2_start_result, [0.05, 0.95]))\n",
    "print( \"90% BCI for end's theta:\", stats.mstats.mquantiles( part2_end_result, [0.05, 0.95]))\n",
    "print( \"90% BCI for difference:\", stats.mstats.mquantiles( rand_difference, [0.05, 0.95]))"
   ]
  },
  {
   "cell_type": "markdown",
   "metadata": {},
   "source": [
    "It seems that 90% of the random differences were between 4.07 and 7.40, which does not lend credence to the idea that the difference is greater than 10. "
   ]
  },
  {
   "cell_type": "code",
   "execution_count": 15,
   "metadata": {},
   "outputs": [
    {
     "data": {
      "text/plain": [
       "0.0"
      ]
     },
     "execution_count": 15,
     "metadata": {},
     "output_type": "execute_result"
    }
   ],
   "source": [
    "np.mean(rand_difference >= 10)"
   ]
  },
  {
   "cell_type": "markdown",
   "metadata": {},
   "source": [
    "If on any given day the weight was uniformly distributed within + or - 5 pounds of what was measured, then there seems to be a 0% chance that the difference is greater than or equal to 5 pounds. "
   ]
  },
  {
   "cell_type": "markdown",
   "metadata": {},
   "source": [
    "### part 3"
   ]
  },
  {
   "cell_type": "code",
   "execution_count": 16,
   "metadata": {},
   "outputs": [
    {
     "data": {
      "text/plain": [
       "0.6689"
      ]
     },
     "execution_count": 16,
     "metadata": {},
     "output_type": "execute_result"
    }
   ],
   "source": [
    "np.mean(bs_difference >= .4)"
   ]
  },
  {
   "cell_type": "markdown",
   "metadata": {},
   "source": [
    "It looks like we can be 66% certain that the loss in weight will be 0.4 pounds or higher. So doesn't seem very good for that guarantee. "
   ]
  },
  {
   "cell_type": "markdown",
   "metadata": {},
   "source": [
    "**Question 2.**\n",
    "\n",
    "The Acme Company has developed a new battery. The engineer in charge claims that the new battery will operate continuously for at least 7 minutes longer than the old battery.\n",
    "\n",
    "To test the claim, the company selects a simple random sample of 100 new batteries and 100 old batteries. The data is provided below.\n",
    "\n",
    "Based on the data,\n",
    "\n",
    "1. Test the engineer's claim that the new batteries run at least 7 minutes longer than the old. \n",
    "2. If plus or minus 5 minutes is \"equivalent\", what is the probability that the batteries have the same operating life?"
   ]
  },
  {
   "cell_type": "code",
   "execution_count": 17,
   "metadata": {},
   "outputs": [],
   "source": [
    "data2 = {}\n",
    "data2[\"old\"] = [161, 184, 138, 178, 188, 175, 195, 214, 183, 184, 195, 196, 150, 206, 185, 202, 216, 186, 153, 174, 217, 217, 178, 172, 205, 192, 172, 222, 197, 174, 163, 206, 176, 176, 230, 202, 267, 186, 190, 200, 182, 160, 225, 185, 205, 213, 189, 171, 166, 239, 170, 198, 198, 198, 211, 194, 197, 212, 194, 236, 163, 218, 221, 189, 182, 182, 202, 172, 165, 180, 214, 186, 191, 179, 191, 204, 209, 212, 141, 188, 193, 192, 185, 199, 144, 146, 231, 201, 177, 191, 197, 182, 174, 231, 202, 195, 161, 187, 181, 186]\n",
    "data2[\"new\"] = [196, 245, 196, 243, 181, 161, 173, 151, 148, 195, 247, 164, 167, 234, 200, 215, 204, 190, 148, 127, 174, 135, 231, 199, 125, 138, 140, 206, 139, 177, 260, 231, 173, 172, 178, 224, 186, 115, 144, 222, 189, 107, 239, 124, 216, 169, 212, 262, 145, 221, 179, 192, 142, 232, 171, 233, 287, 216, 188, 156, 169, 238, 128, 155, 202, 174, 229, 198, 192, 169, 156, 238, 178, 220, 177, 191, 234, 251, 166, 123, 144, 127, 203, 230, 203, 188, 185, 255, 239, 227, 173, 196, 208, 236, 194, 204, 217, 252, 169, 166]\n",
    "data2['old'] = np.array(data2['old'])\n",
    "data2['new'] = np.array(data2['new'])"
   ]
  },
  {
   "cell_type": "code",
   "execution_count": 18,
   "metadata": {},
   "outputs": [
    {
     "name": "stdout",
     "output_type": "stream",
     "text": [
      "difference= -0.539999999999992\n"
     ]
    }
   ],
   "source": [
    "print('difference=', np.mean(data2['new']) - np.mean(data2['old']))"
   ]
  },
  {
   "cell_type": "markdown",
   "metadata": {},
   "source": [
    "Uh oh, a negative number is not what you want to see when you are claiming the new batteries hold more charge than the old ones. "
   ]
  },
  {
   "cell_type": "code",
   "execution_count": 19,
   "metadata": {},
   "outputs": [],
   "source": [
    "np.random.seed([9235274])\n",
    "old_posterior = bootstrap_sample(data2['old'], np.mean, 1000)\n",
    "new_posterior = bootstrap_sample( data2['new'], np.mean, 1000)"
   ]
  },
  {
   "cell_type": "code",
   "execution_count": 20,
   "metadata": {},
   "outputs": [],
   "source": [
    "bs_difference2 = new_posterior - old_posterior"
   ]
  },
  {
   "cell_type": "code",
   "execution_count": 21,
   "metadata": {},
   "outputs": [
    {
     "data": {
      "image/png": "[encoded data removed]",
      "text/plain": [
       "<matplotlib.figure.Figure at 0x29749d860b8>"
      ]
     },
     "metadata": {},
     "output_type": "display_data"
    }
   ],
   "source": [
    "figure = plt.figure(figsize=(20, 6)) # first element is width, second is height.\n",
    "\n",
    "axes = figure.add_subplot(1, 3, 1)\n",
    "\n",
    "axes.hist( old_posterior, density=True)\n",
    "axes.set_ylabel( \"Density\")\n",
    "axes.set_xlabel( \"$\\hat{theta}$\")\n",
    "axes.set_title( \"Posterior Distribution of Old's $\\hat{theta}$\")\n",
    "\n",
    "axes = figure.add_subplot(1, 3, 2)\n",
    "\n",
    "axes.hist( new_posterior, density=True)\n",
    "axes.set_ylabel( \"Density\")\n",
    "axes.set_xlabel( \"$\\hat{theta}$\")\n",
    "axes.set_title( \"Posterior Distribution of New's $\\hat{theta}$\")\n",
    "\n",
    "axes = figure.add_subplot(1, 3, 3)\n",
    "\n",
    "axes.hist( bs_difference2, density=True)\n",
    "axes.set_ylabel( \"Density\")\n",
    "axes.set_xlabel( \"difference in $\\hat{theta}$\")\n",
    "axes.set_title( \"Posterior Distribution of Difference in $\\hat{theta}$s\")\n",
    "\n",
    "plt.show()\n",
    "plt.close()"
   ]
  },
  {
   "cell_type": "code",
   "execution_count": 22,
   "metadata": {},
   "outputs": [
    {
     "name": "stdout",
     "output_type": "stream",
     "text": [
      "90% BCI for start's theta: [187.5964 194.5677]\n",
      "90% BCI for end's theta: [183.7246 196.91  ]\n",
      "90% BCI for difference: [-7.99    6.9718]\n"
     ]
    }
   ],
   "source": [
    "print( \"90% BCI for start's theta:\", stats.mstats.mquantiles( old_posterior, [0.05, 0.95]))\n",
    "print( \"90% BCI for end's theta:\", stats.mstats.mquantiles( new_posterior, [0.05, 0.95]))\n",
    "print( \"90% BCI for difference:\", stats.mstats.mquantiles( bs_difference2, [0.05, 0.95]))"
   ]
  },
  {
   "cell_type": "markdown",
   "metadata": {},
   "source": [
    "It looks like the 90% interval is between -7.99 and 6.97, which does not mean that we can assume that it's significantly different from 0. "
   ]
  },
  {
   "cell_type": "code",
   "execution_count": 23,
   "metadata": {},
   "outputs": [
    {
     "data": {
      "text/plain": [
       "0.049"
      ]
     },
     "execution_count": 23,
     "metadata": {},
     "output_type": "execute_result"
    }
   ],
   "source": [
    "np.mean(bs_difference2 >= 7)"
   ]
  },
  {
   "cell_type": "markdown",
   "metadata": {},
   "source": [
    "There is only a 4.9% chance that the new battery can last 7 more minutes than the old battery, which isn't a good sign."
   ]
  },
  {
   "cell_type": "markdown",
   "metadata": {},
   "source": [
    "**Question 3.**\n",
    "\n",
    "In a recent survey, on an important question of economic revitalization, men and women responded as follows:\n",
    "\n",
    "```\n",
    "                   Response\n",
    "                     Yes  No  Total\n",
    "       Gender    Men  30  70  100\n",
    "               Women  45  55  100\n",
    "```\n",
    "\n",
    "Based on the data, what is the probability that the women were in favor of the question? "
   ]
  },
  {
   "cell_type": "code",
   "execution_count": 24,
   "metadata": {},
   "outputs": [
    {
     "name": "stdout",
     "output_type": "stream",
     "text": [
      "men's data:  [0, 1, 0, 0, 0, 0, 1, 0, 1, 0, 0, 0, 1, 0, 0, 0, 0, 0, 0, 1]\n",
      "women's data:  [1, 0, 0, 0, 0, 1, 0, 1, 0, 0, 1, 1, 0, 1, 1, 0, 1, 0, 0, 0]\n"
     ]
    }
   ],
   "source": [
    "np.random.seed([9235274])\n",
    "\n",
    "men_theta = 0.3\n",
    "men_data = [1] * 30 + [0] * 70\n",
    "np.random.shuffle( men_data)\n",
    "print( \"men's data: \", men_data[0:20])\n",
    "\n",
    "women_theta = 0.45\n",
    "women_data = [1] * 45 + [0] * 55\n",
    "np.random.shuffle( women_data)\n",
    "print( \"women's data: \", women_data[0:20])"
   ]
  },
  {
   "cell_type": "code",
   "execution_count": 25,
   "metadata": {},
   "outputs": [
    {
     "name": "stdout",
     "output_type": "stream",
     "text": [
      "men's mean= 0.3\n",
      "women's mean= 0.45\n",
      "difference= -0.15000000000000002\n"
     ]
    }
   ],
   "source": [
    "mens_mean = np.mean( men_data)\n",
    "print( \"men's mean=\", mens_mean)\n",
    "womens_mean = np.mean( women_data)\n",
    "print( \"women's mean=\", womens_mean)\n",
    "print( \"difference=\", mens_mean - womens_mean)"
   ]
  },
  {
   "cell_type": "code",
   "execution_count": 26,
   "metadata": {},
   "outputs": [],
   "source": [
    "men_posterior = bootstrap_sample( men_data, np.mean, 1000)\n",
    "women_posterior = bootstrap_sample( women_data, np.mean, 1000)\n",
    "difference3 = men_posterior - women_posterior"
   ]
  },
  {
   "cell_type": "code",
   "execution_count": 27,
   "metadata": {},
   "outputs": [
    {
     "data": {
      "image/png": "[encoded data removed]",
      "text/plain": [
       "<matplotlib.figure.Figure at 0x2974a335f28>"
      ]
     },
     "metadata": {},
     "output_type": "display_data"
    }
   ],
   "source": [
    "figure = plt.figure(figsize=(20, 6)) # first element is width, second is height.\n",
    "\n",
    "axes = figure.add_subplot(1, 3, 1)\n",
    "\n",
    "axes.hist( men_posterior, density=True)\n",
    "axes.set_ylabel( \"Density\")\n",
    "axes.set_xlabel( \"$\\hat{theta}$\")\n",
    "axes.set_title( \"Posterior Distribution of Men's $\\hat{theta}$\")\n",
    "\n",
    "axes = figure.add_subplot(1, 3, 2)\n",
    "\n",
    "axes.hist( women_posterior, density=True)\n",
    "axes.set_ylabel( \"Density\")\n",
    "axes.set_xlabel( \"$\\hat{theta}$\")\n",
    "axes.set_title( \"Posterior Distribution of Women's $\\hat{theta}$\")\n",
    "\n",
    "axes = figure.add_subplot(1, 3, 3)\n",
    "\n",
    "axes.hist( difference3, density=True)\n",
    "axes.set_ylabel( \"Density\")\n",
    "axes.set_xlabel( \"difference in $\\hat{theta}$\")\n",
    "axes.set_title( \"Posterior Distribution of Difference in $\\hat{theta}$s\")\n",
    "\n",
    "plt.show()\n",
    "plt.close()"
   ]
  },
  {
   "cell_type": "code",
   "execution_count": 28,
   "metadata": {},
   "outputs": [
    {
     "name": "stdout",
     "output_type": "stream",
     "text": [
      "90% BCI for men's theta: [0.22 0.38]\n",
      "90% BCI for women's theta: [0.37 0.53]\n",
      "90% BCI for difference: [-0.26 -0.04]\n"
     ]
    }
   ],
   "source": [
    "print( \"90% BCI for men's theta:\", stats.mstats.mquantiles( men_posterior, [0.05, 0.95]))\n",
    "print( \"90% BCI for women's theta:\", stats.mstats.mquantiles( women_posterior, [0.05, 0.95]))\n",
    "print( \"90% BCI for difference:\", stats.mstats.mquantiles( difference3, [0.05, 0.95]))"
   ]
  },
  {
   "cell_type": "markdown",
   "metadata": {},
   "source": [
    "While we were only interested in women's true probability of voting here, I thought that it would be interesting to look at the other metrics. It seems that women were much more likely to vote yes on this question than one, and it's significant at a 10% alpha level. \n",
    "\n",
    "However, the answer to the original question is that we can be 90% certain that between 37% and 53% of women wil answer yes to the question. "
   ]
  },
  {
   "cell_type": "code",
   "execution_count": 29,
   "metadata": {},
   "outputs": [
    {
     "data": {
      "text/plain": [
       "0.181"
      ]
     },
     "execution_count": 29,
     "metadata": {},
     "output_type": "execute_result"
    }
   ],
   "source": [
    "np.mean(women_posterior >= .5)"
   ]
  },
  {
   "cell_type": "markdown",
   "metadata": {},
   "source": [
    "If the original question actually meant what the probability is that the **majority** of women would vote yes, then there is only a 18.1% chance that the majority of women would vote yes. "
   ]
  },
  {
   "cell_type": "markdown",
   "metadata": {},
   "source": [
    "**Question 4.**\n",
    "\n",
    "In the above question you were able to regenerate the data. In the case of a continuous numeric variable, we're not exactly able to do this. However, given a parameterization and some assumptions about the underlying distribution, there are two possible approaches to solving this problem.\n",
    "\n",
    "1. We could generate a single sample of size N from the distribution and do M bootstrap samples. (Method 1).\n",
    "2. We could generate M samples of size N directly from the distribution. (Method 2).\n",
    "\n",
    "Compare these approaches with the following problem:\n",
    "\n",
    "\"Within a school district, students were randomly assigned to one of two Math teachers - Mrs. Smith and Mrs. Jones. After the assignment, Mrs. Smith had 30 students, and Mrs. Jones had 25 students.\n",
    "\n",
    "\"At the end of the year, each class took the same standardized test. Mrs. Smith's students had an average test score of 78, with a standard deviation of 10; and Mrs. Jones' students had an average test score of 85, with a standard deviation of 15.\n",
    "\n",
    "\"What is the probability that Mrs. Smith and Mrs. Jones are equally effective teachers.\"\n",
    "\n",
    "Using N = 100 and M = 100:\n",
    "\n",
    "1. Define what \"equally effective might mean\".\n",
    "2. Answer the question using Method 1.\n",
    "3. Answer the question using Method 2.\n",
    "4. Comment on any observed similarities or differences between the two results."
   ]
  },
  {
   "cell_type": "code",
   "execution_count": 30,
   "metadata": {},
   "outputs": [],
   "source": [
    "n = 100\n",
    "m = 100"
   ]
  },
  {
   "cell_type": "markdown",
   "metadata": {},
   "source": [
    "In this question, I am defining \"equally effective\" as meaning that the difference between Mrs. Smith's class and Mrs. Jones' class as not being significantly different from 0. "
   ]
  },
  {
   "cell_type": "markdown",
   "metadata": {},
   "source": [
    "### Method 1"
   ]
  },
  {
   "cell_type": "code",
   "execution_count": 31,
   "metadata": {},
   "outputs": [],
   "source": [
    "np.random.seed([9235274])\n",
    "method1_smith = np.random.normal(78,10,n)\n",
    "method1_jones = np.random.normal(85,15,n)"
   ]
  },
  {
   "cell_type": "code",
   "execution_count": 32,
   "metadata": {},
   "outputs": [
    {
     "name": "stdout",
     "output_type": "stream",
     "text": [
      "smith mean 78.47495071566287\n",
      "jones mean 86.61800356867803\n",
      "smith s.d. 9.959216018225186\n",
      "jones s.d. 14.92627453546639\n"
     ]
    }
   ],
   "source": [
    "print('smith mean',np.mean(method1_smith))\n",
    "print('jones mean',np.mean(method1_jones))\n",
    "print('smith s.d.',np.std(method1_smith))\n",
    "print('jones s.d.',np.std(method1_jones))"
   ]
  },
  {
   "cell_type": "markdown",
   "metadata": {},
   "source": [
    "Our randomly generated numbers seem close enough to what we had expected."
   ]
  },
  {
   "cell_type": "code",
   "execution_count": 33,
   "metadata": {},
   "outputs": [],
   "source": [
    "smith_posterior = bootstrap_sample( method1_smith, np.mean, m)\n",
    "jones_posterior = bootstrap_sample( method1_jones, np.mean, m)\n",
    "difference4 = smith_posterior - jones_posterior"
   ]
  },
  {
   "cell_type": "code",
   "execution_count": 34,
   "metadata": {},
   "outputs": [
    {
     "data": {
      "image/png": "[encoded data removed]",
      "text/plain": [
       "<matplotlib.figure.Figure at 0x2974a02f898>"
      ]
     },
     "metadata": {},
     "output_type": "display_data"
    }
   ],
   "source": [
    "figure = plt.figure(figsize=(20, 6)) # first element is width, second is height.\n",
    "\n",
    "axes = figure.add_subplot(1, 3, 1)\n",
    "\n",
    "axes.hist( smith_posterior, density=True)\n",
    "axes.set_ylabel( \"Density\")\n",
    "axes.set_xlabel( \"$\\hat{theta}$\")\n",
    "axes.set_title( \"Posterior Distribution of Men's $\\hat{theta}$\")\n",
    "\n",
    "axes = figure.add_subplot(1, 3, 2)\n",
    "\n",
    "axes.hist( jones_posterior, density=True)\n",
    "axes.set_ylabel( \"Density\")\n",
    "axes.set_xlabel( \"$\\hat{theta}$\")\n",
    "axes.set_title( \"Posterior Distribution of Women's $\\hat{theta}$\")\n",
    "\n",
    "axes = figure.add_subplot(1, 3, 3)\n",
    "\n",
    "axes.hist( difference4, density=True)\n",
    "axes.set_ylabel( \"Density\")\n",
    "axes.set_xlabel( \"difference in $\\hat{theta}$\")\n",
    "axes.set_title( \"Posterior Distribution of Difference in $\\hat{theta}$s\")\n",
    "\n",
    "plt.show()\n",
    "plt.close()"
   ]
  },
  {
   "cell_type": "code",
   "execution_count": 35,
   "metadata": {},
   "outputs": [
    {
     "name": "stdout",
     "output_type": "stream",
     "text": [
      "90% BCI for smith's theta: [76.97044063 80.2052155 ]\n",
      "90% BCI for jones's theta: [83.95518822 89.46371897]\n",
      "90% BCI for difference: [-10.92121191  -5.28568234]\n"
     ]
    }
   ],
   "source": [
    "print( \"90% BCI for smith's theta:\", stats.mstats.mquantiles( smith_posterior, [0.05, 0.95]))\n",
    "print( \"90% BCI for jones's theta:\", stats.mstats.mquantiles( jones_posterior, [0.05, 0.95]))\n",
    "print( \"90% BCI for difference:\", stats.mstats.mquantiles( difference4, [0.05, 0.95]))"
   ]
  },
  {
   "cell_type": "markdown",
   "metadata": {},
   "source": [
    "Well, it looks like the 90% BCI for the difference between the two classes is -10.92 and -5.29. Since 0 is not within that confidence interval, we can reject the null hypothesis that there is no difference between Smith and Jone's class."
   ]
  },
  {
   "cell_type": "code",
   "execution_count": 36,
   "metadata": {},
   "outputs": [
    {
     "data": {
      "text/plain": [
       "0.0"
      ]
     },
     "execution_count": 36,
     "metadata": {},
     "output_type": "execute_result"
    }
   ],
   "source": [
    "np.mean((difference4 >= -1) & (difference4<=1)) "
   ]
  },
  {
   "cell_type": "markdown",
   "metadata": {},
   "source": [
    "It seems like there isn't any chance that there difference is around 0."
   ]
  },
  {
   "cell_type": "markdown",
   "metadata": {},
   "source": [
    "### Method 2"
   ]
  },
  {
   "cell_type": "code",
   "execution_count": 37,
   "metadata": {},
   "outputs": [],
   "source": [
    "np.random.seed([9235274])\n",
    "method2_smith = []\n",
    "method2_jones = []\n",
    "for i in range(m):\n",
    "    method2_smith_temp = np.random.normal(78,10,n)\n",
    "    method2_jones_temp = np.random.normal(85,15,n)\n",
    "    method2_smith.append(np.mean(method2_smith_temp))\n",
    "    method2_jones.append(np.mean(method2_jones_temp))\n",
    "method2_smith = np.array(method2_smith)\n",
    "method2_jones = np.array(method2_jones)\n",
    "difference_method2 = method2_smith - method2_jones"
   ]
  },
  {
   "cell_type": "code",
   "execution_count": 38,
   "metadata": {},
   "outputs": [
    {
     "data": {
      "image/png": "[encoded data removed]",
      "text/plain": [
       "<matplotlib.figure.Figure at 0x29748fb4c18>"
      ]
     },
     "metadata": {},
     "output_type": "display_data"
    }
   ],
   "source": [
    "figure = plt.figure(figsize=(20, 6)) # first element is width, second is height.\n",
    "\n",
    "axes = figure.add_subplot(1, 3, 1)\n",
    "\n",
    "axes.hist( method2_smith, density=True)\n",
    "axes.set_ylabel( \"Density\")\n",
    "axes.set_xlabel( \"$\\hat{theta}$\")\n",
    "axes.set_title( \"Posterior Distribution of Men's $\\hat{theta}$\")\n",
    "\n",
    "axes = figure.add_subplot(1, 3, 2)\n",
    "\n",
    "axes.hist( method2_jones, density=True)\n",
    "axes.set_ylabel( \"Density\")\n",
    "axes.set_xlabel( \"$\\hat{theta}$\")\n",
    "axes.set_title( \"Posterior Distribution of Women's $\\hat{theta}$\")\n",
    "\n",
    "axes = figure.add_subplot(1, 3, 3)\n",
    "\n",
    "axes.hist( difference_method2, density=True)\n",
    "axes.set_ylabel( \"Density\")\n",
    "axes.set_xlabel( \"difference in $\\hat{theta}$\")\n",
    "axes.set_title( \"Posterior Distribution of Difference in $\\hat{theta}$s\")\n",
    "\n",
    "plt.show()\n",
    "plt.close()"
   ]
  },
  {
   "cell_type": "code",
   "execution_count": 39,
   "metadata": {},
   "outputs": [],
   "source": [
    "## from https://stackoverflow.com/questions/15033511/compute-a-confidence-interval-from-sample-data?rq=1\n",
    "\n",
    "def mean_confidence_interval(data, confidence=0.95):\n",
    "    a = 1.0 * np.array(data)\n",
    "    n = len(a)\n",
    "    m, se = np.mean(a), stats.sem(a)\n",
    "    h = se * stats.t.ppf((1 + confidence) / 2., n-1)\n",
    "    return m-h, m+h"
   ]
  },
  {
   "cell_type": "code",
   "execution_count": 40,
   "metadata": {},
   "outputs": [
    {
     "data": {
      "text/plain": [
       "(77.83086726694314, 78.16040604531436)"
      ]
     },
     "execution_count": 40,
     "metadata": {},
     "output_type": "execute_result"
    }
   ],
   "source": [
    "mean_confidence_interval(method2_smith, confidence = .9)"
   ]
  },
  {
   "cell_type": "code",
   "execution_count": 41,
   "metadata": {},
   "outputs": [
    {
     "name": "stdout",
     "output_type": "stream",
     "text": [
      "90% CI for smith's theta: (77.83086726694314, 78.16040604531436)\n",
      "90% CI for jones's theta: (84.50185093916896, 85.0277316706542)\n",
      "90% CI for difference: (-7.063875149160153, -6.474434148405497)\n"
     ]
    }
   ],
   "source": [
    "print( \"90% CI for smith's theta:\", mean_confidence_interval(method2_smith, confidence = .9))\n",
    "print( \"90% CI for jones's theta:\", mean_confidence_interval(method2_jones, confidence = .9))\n",
    "print( \"90% CI for difference:\", mean_confidence_interval(difference_method2, confidence = .9))"
   ]
  },
  {
   "cell_type": "raw",
   "metadata": {},
   "source": [
    "## I'm not sure if this method or the prior method is more appropriate for this method to calculate confidence intervals. The results are drastically different.\n",
    "# print( \"90% CI for smith's theta:\", stats.mstats.mquantiles( method2_smith, [0.05, 0.95]))\n",
    "print( \"90% CI for jones's theta:\", stats.mstats.mquantiles( method2_jones, [0.05, 0.95]))\n",
    "print( \"90% CI for difference:\", stats.mstats.mquantiles( difference_method2, [0.05, 0.95]))"
   ]
  },
  {
   "cell_type": "markdown",
   "metadata": {},
   "source": [
    "It looks like method 2 also generated a 90% CI that produced a result that shows that there is a significant difference between the two classes. There is a 90% chance that the interval (-7.06,-6.47) captures the true population difference between Smith's class and Jone's class."
   ]
  },
  {
   "cell_type": "code",
   "execution_count": 42,
   "metadata": {},
   "outputs": [
    {
     "data": {
      "text/plain": [
       "Ttest_indResult(statistic=-36.22112624276094, pvalue=2.7242369537410377e-89)"
      ]
     },
     "execution_count": 42,
     "metadata": {},
     "output_type": "execute_result"
    }
   ],
   "source": [
    "stats.ttest_ind( method2_smith, method2_jones)"
   ]
  },
  {
   "cell_type": "markdown",
   "metadata": {},
   "source": [
    "It appears that the T-test also thinks that there's almost no chance that we can accept the null hypothesis that there is no difference between Smith and Jones classes. "
   ]
  },
  {
   "cell_type": "markdown",
   "metadata": {},
   "source": [
    "### Differences between the two methods\n",
    "Besides the calculation differences, if I did them right, it seems that the second method is much more sure of its intervals. The intervals are smaller and it seems more certain that the populations are different"
   ]
  }
 ],
 "metadata": {
  "kernelspec": {
   "display_name": "Python 3",
   "language": "python",
   "name": "python3"
  },
  "language_info": {
   "codemirror_mode": {
    "name": "ipython",
    "version": 3
   },
   "file_extension": ".py",
   "mimetype": "text/x-python",
   "name": "python",
   "nbconvert_exporter": "python",
   "pygments_lexer": "ipython3",
   "version": "3.6.4"
  },
  "toc": {
   "colors": {
    "hover_highlight": "#DAA520",
    "navigate_num": "#000000",
    "navigate_text": "#333333",
    "running_highlight": "#FF0000",
    "selected_highlight": "#FFD700",
    "sidebar_border": "#EEEEEE",
    "wrapper_background": "#FFFFFF"
   },
   "moveMenuLeft": true,
   "nav_menu": {
    "height": "66px",
    "width": "252px"
   },
   "navigate_menu": true,
   "number_sections": true,
   "sideBar": true,
   "threshold": 4,
   "toc_cell": false,
   "toc_section_display": "block",
   "toc_window_display": false,
   "widenNotebook": false
  }
 },
 "nbformat": 4,
 "nbformat_minor": 2
}
