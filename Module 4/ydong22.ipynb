{
 "cells": [
  {
   "cell_type": "markdown",
   "metadata": {},
   "source": [
    "# Lab 4 - Data"
   ]
  },
  {
   "cell_type": "code",
   "execution_count": 1,
   "metadata": {},
   "outputs": [],
   "source": [
    "% matplotlib inline"
   ]
  },
  {
   "cell_type": "markdown",
   "metadata": {},
   "source": [
    "The special command above will make all the `matplotlib` images appear in the notebook."
   ]
  },
  {
   "cell_type": "markdown",
   "metadata": {},
   "source": [
    "## Directions\n",
    "\n",
    "**Failure to follow the directions will result in a \"0\"**\n",
    "\n",
    "The due dates for each are indicated in the Syllabus and the course calendar. If anything is unclear, please email EN605.648@gmail.com the official email for the course or ask questions in the Lab discussion area on Blackboard.\n",
    "\n",
    "The Labs also present technical material that augments the lectures and course notes.  You should read through the entire lab at the start of each module.\n",
    "\n",
    "Please make sure you understand all the instructions."
   ]
  },
  {
   "cell_type": "markdown",
   "metadata": {},
   "source": [
    "### General Instructions\n",
    "\n",
    "1.  You will be submitting your assignment to Blackboard.\n",
    "    \n",
    "This assignment has many files. You should include in your zip file:\n",
    "\n",
    "    1. [jhed_id].ipynb - this file and your queries/reporting code.\n",
    "    2. hurricanes.py - your preprocessing and data writing file.\n",
    "    3. hurricanes.html - the local copy of the Wikipedia page.\n",
    "    4. hurricanes.db - the SQLite database you create.\n",
    "    5. hurricans.sql - the DDL commands to create your database.\n",
    "    \n",
    "Put all of these files in a directory/folder named [jhed_id] and zip it (only use Zip compression, nothing else). Submit your zip file to Blackboard.\n",
    "    \n",
    "2. Data Science is as much about what you write (communicating) as the code you execute (researching). In many places, you will be required to execute code and discuss both the purpose and the result. Additionally, Data Science is about reproducibility and transparency. This includes good communication with your team and possibly with yourself. Therefore, you must show **all** work.\n",
    "\n",
    "3. Avail yourself of the Markdown/Codecell nature of the notebook. If you don't know about Markdown, look it up. Your notebooks should not look like ransom notes. Don't make everything bold. Clearly indicate what question you are answering.\n",
    "\n",
    "4. Submit a cleanly executed notebook. The first code cell should say `In [1]` and each successive code cell should increase by 1 throughout the notebook."
   ]
  },
  {
   "cell_type": "markdown",
   "metadata": {},
   "source": [
    "## Individual Submission\n",
    "\n",
    "## Getting and Storing Data\n",
    "\n",
    "This Lab is about acquiring, cleaning and storing data (commonly known as \"wrangling\") as well as doing a little bit of analysis.\n",
    "\n",
    "### Basic Outline\n",
    "\n",
    "1. Use `curl` or `wget` obtain a local copy of the following web page: Atlantic Hurricane Season ( https://en.wikipedia.org/wiki/Atlantic_hurricane_season ). You can also just visit the page and save the HTML. **include this in your submission as `hurricanes.html`**.  This is important. In Spring 2016, the page was edited during the module and different people got different answers at different times.  You only need to be correct with respect to your `hurricanes.html` file.\n",
    "2. create the SQLite3 database and initialize the tables. **include these files as `hurricanes.db` and `hurricanes.sql`**.  We are using SQLite3 not because it is the best database in the world but because its database files are shareable.\n",
    "3. use Beautiful Soup 4 and Python, parse the HTML file into a usable dataset. Write the data to the database. **this code should be in a file `hurricanes.py` and included in your submission** Your code should have copious comments.\n",
    "4. Write this data set to a SQLite3 database called `hurricanes.db` **include this in your submission**.\n",
    "5. Run the requested queries against the data set. **see below** The results should be **nicely formatted**.\n",
    "\n",
    "Although Wikipedia has an API, I do not what you to use it for this assignment."
   ]
  },
  {
   "cell_type": "markdown",
   "metadata": {},
   "source": [
    "## Learning Objectives\n",
    "\n",
    "This assignment has several learning objectives:\n",
    "\n",
    "* create a database and tables in one database type, SQLite\n",
    "* use BeautifulSoup to parse a web page.\n",
    "* use Regular Expressions to parse text to extract numbers.\n",
    "* write data to a database using SQL.\n",
    "* read data from a database using SQL.\n",
    "\n",
    "You can reference the Module links to various tutorials on these topics."
   ]
  },
  {
   "cell_type": "markdown",
   "metadata": {},
   "source": [
    "### Details\n",
    "\n",
    "The data is contained in many separate HTML tables. You will need to look at the raw HTML to determine how everything is laid out. Make sure you decompose the problem into nice, neat, focused functions. You should have a function that processes a table, one that processes a row, one that processes something that may be numeric.\n",
    "\n",
    "You only need to get the data from the tables starting in the 1850s but note that not all years have the same data. You only need to save the following columns. The name is parentheses is the name the column should have in the database table.\n",
    "\n",
    "- Year (`year`)\n",
    "- Number of tropical storms (`tropical_storms`)\n",
    "- Number of hurricanes (`hurricanes`)\n",
    "- Number of Major Hurricanes (`major_hurricanes`)\n",
    "- Deaths (`deaths`)\n",
    "- Damage (`damage`)\n",
    "- Notes (`notes`)\n",
    "\n",
    "Note that \"Damage\" doesn't start until 1900s and \"Notes\" was added in 1880s. \"Strongest Storm\" should be added to the Notes column (even in years that didn't have Notes) as should \"Retired Storms\". The name of the database table should be `atlantic_hurricanes`. The name of the table file (SQLite3 uses a file) should be `hurricanes.db` (who knows...you might need to add Pacific storms someday).\n",
    "\n",
    "There are a number of parsing problems which will most likely require regular expressions. First, the Deaths column has numbers that include commas and entries that are not numbers (Unknown and None). How should you code Unknown and None so that answers are not misleading but queries are still fairly straightforward to write?\n",
    "\n",
    "Similarly, Damages has numbers with commas, currency signs and different amount words (millions, billions). How will you normalize all of these so that a query can compare them? You may need regular expressions.\n",
    "\n",
    "Additionally, the way that Tropical Storms are accounted for seems to change mysteriously. Looking over the data, it's not immediately apparent when the interpretation should change. 1850s, 1860s definitely but 1870s? Not sure. It could just be a coincidence that there were never more hurricanes than tropical storms which seems to be the norm but see, for example, 1975. Welcome to Data Science!\n",
    "\n",
    "You should put your parsing code in `hurricanes.py`. None of it should be in this file. Imagine this file is going to be the report you give to your boss."
   ]
  },
  {
   "cell_type": "markdown",
   "metadata": {},
   "source": [
    "## Documentation\n",
    "\n",
    "Any time you run into a problem where you have to decide what to do--how to solve the problem or treat the values--document it here."
   ]
  },
  {
   "cell_type": "markdown",
   "metadata": {},
   "source": [
    "I had to decide how to handle the multiple tables. I ended up trying to read in all the tables by their trbody tag, and then iterating through the rows and storing it in a list. I turned it into a DataFrame just so I can clean it, and then I put it into a sql implementation.\n",
    "\n",
    "There turned out to be another table at the bottom using the same class, so I dropped that manually. \n",
    "\n",
    "Tables are of different column sizes. I can't figure out how to fix this.\n",
    "\n",
    "Once I get the tables in the right size, I also need to learn how to use regex to convert numbers with commas into actual numbers that Python can do comparisons on."
   ]
  },
  {
   "cell_type": "markdown",
   "metadata": {},
   "source": []
  },
  {
   "cell_type": "markdown",
   "metadata": {},
   "source": [
    "## Hurricanes.db\n",
    "\n",
    "What is the *function* of `hurricanes.db` in this assignment?"
   ]
  },
  {
   "cell_type": "markdown",
   "metadata": {},
   "source": [
    "It's a sql database that we can pull from using sql statements instead of python commands"
   ]
  },
  {
   "cell_type": "markdown",
   "metadata": {},
   "source": []
  },
  {
   "cell_type": "markdown",
   "metadata": {},
   "source": [
    "### Queries\n",
    "\n",
    "When you are done, you must write and execute the following queries against your database. Those queries should be run from this notebook. Find the documentation for using SQLite3 from Python (the library is already included). You should never output raw Python data structures instead, you need to output well-formatted tables. You may need to look around for a library to help you or write your own formatting code. `Pandas` is one possibility. \n",
    "\n",
    "However, I want you to use raw SQL for your queries so if you use `Pandas` use it only for the formatting of query results (**don't load the data into Pandas and use Pandas/Python to query the data**). Imagine that you were somewhere you couldn't get Pandas...you'd need to know how to do this without it.\n",
    "\n",
    "**Write the most general query possible. Never assume that you are going to get only one result back (i.e, don't assume there won't be ties).** The query result should be in a nicely formatted table; don't show raw data structures to your boss or manager.\n",
    "\n",
    "Additionally, don't just run the query. Having gotten an answer, add a textual description of the result to the question. Data Science is not about running code; code is a means to an end. The end is the communication of results. We never just run code in this class."
   ]
  },
  {
   "cell_type": "code",
   "execution_count": 75,
   "metadata": {},
   "outputs": [],
   "source": [
    "# imports\n",
    "import requests\n",
    "import sqlite3\n",
    "import pandas as pd\n",
    "import numpy as np\n",
    "from bs4 import BeautifulSoup\n",
    "from sqlalchemy import create_engine"
   ]
  },
  {
   "cell_type": "markdown",
   "metadata": {},
   "source": [
    "1\\. For the 1920s, list the years by number of tropical storms, then hurricanes."
   ]
  },
  {
   "cell_type": "code",
   "execution_count": 100,
   "metadata": {},
   "outputs": [
    {
     "data": {
      "text/html": [
       "<div>\n",
       "<style scoped>\n",
       "    .dataframe tbody tr th:only-of-type {\n",
       "        vertical-align: middle;\n",
       "    }\n",
       "\n",
       "    .dataframe tbody tr th {\n",
       "        vertical-align: top;\n",
       "    }\n",
       "\n",
       "    .dataframe thead th {\n",
       "        text-align: right;\n",
       "    }\n",
       "</style>\n",
       "<table border=\"1\" class=\"dataframe\">\n",
       "  <thead>\n",
       "    <tr style=\"text-align: right;\">\n",
       "      <th></th>\n",
       "      <th>0</th>\n",
       "      <th>1</th>\n",
       "      <th>2</th>\n",
       "      <th>3</th>\n",
       "      <th>4</th>\n",
       "      <th>5</th>\n",
       "      <th>6</th>\n",
       "      <th>7</th>\n",
       "      <th>8</th>\n",
       "      <th>9</th>\n",
       "      <th>10</th>\n",
       "    </tr>\n",
       "  </thead>\n",
       "  <tbody>\n",
       "    <tr>\n",
       "      <th>0</th>\n",
       "      <td>83</td>\n",
       "      <td>1925</td>\n",
       "      <td>4</td>\n",
       "      <td>2</td>\n",
       "      <td>0</td>\n",
       "      <td>59+</td>\n",
       "      <td>$19.9 million</td>\n",
       "      <td>One</td>\n",
       "      <td>None</td>\n",
       "      <td>None</td>\n",
       "      <td>None</td>\n",
       "    </tr>\n",
       "    <tr>\n",
       "      <th>1</th>\n",
       "      <td>89</td>\n",
       "      <td>1930</td>\n",
       "      <td>3</td>\n",
       "      <td>2</td>\n",
       "      <td>2</td>\n",
       "      <td>8,000</td>\n",
       "      <td>$50 million</td>\n",
       "      <td>\"Dominican Republic\"</td>\n",
       "      <td>• Dominican Republic Hurricane of 1930 (cat 4)</td>\n",
       "      <td>The fifth deadliest hurricane on record</td>\n",
       "      <td>None</td>\n",
       "    </tr>\n",
       "    <tr>\n",
       "      <th>2</th>\n",
       "      <td>80</td>\n",
       "      <td>1922</td>\n",
       "      <td>5</td>\n",
       "      <td>3</td>\n",
       "      <td>1</td>\n",
       "      <td>Unknown</td>\n",
       "      <td>Unknown</td>\n",
       "      <td>Two</td>\n",
       "      <td>None</td>\n",
       "      <td>None</td>\n",
       "      <td>None</td>\n",
       "    </tr>\n",
       "    <tr>\n",
       "      <th>3</th>\n",
       "      <td>87</td>\n",
       "      <td>1929</td>\n",
       "      <td>5</td>\n",
       "      <td>3</td>\n",
       "      <td>1</td>\n",
       "      <td>51</td>\n",
       "      <td>$9.0 million</td>\n",
       "      <td>\"Florida\"</td>\n",
       "      <td>• Great Bahamas Hurricane of 1929 (cat 4)</td>\n",
       "      <td>None</td>\n",
       "      <td>None</td>\n",
       "    </tr>\n",
       "    <tr>\n",
       "      <th>4</th>\n",
       "      <td>78</td>\n",
       "      <td>1920</td>\n",
       "      <td>5</td>\n",
       "      <td>4</td>\n",
       "      <td>0</td>\n",
       "      <td>2</td>\n",
       "      <td>$15.75 million</td>\n",
       "      <td>One</td>\n",
       "      <td>None</td>\n",
       "      <td>None</td>\n",
       "      <td>None</td>\n",
       "    </tr>\n",
       "    <tr>\n",
       "      <th>5</th>\n",
       "      <td>81</td>\n",
       "      <td>1923</td>\n",
       "      <td>9</td>\n",
       "      <td>4</td>\n",
       "      <td>1</td>\n",
       "      <td>0</td>\n",
       "      <td>Unknown</td>\n",
       "      <td>Five</td>\n",
       "      <td>None</td>\n",
       "      <td>None</td>\n",
       "      <td>None</td>\n",
       "    </tr>\n",
       "    <tr>\n",
       "      <th>6</th>\n",
       "      <td>85</td>\n",
       "      <td>1927</td>\n",
       "      <td>8</td>\n",
       "      <td>4</td>\n",
       "      <td>1</td>\n",
       "      <td>184</td>\n",
       "      <td>Unknown</td>\n",
       "      <td>\"Nova Scotia\"</td>\n",
       "      <td>• Nova Scotia Hurricane of 1927 (cat 3)</td>\n",
       "      <td>None</td>\n",
       "      <td>None</td>\n",
       "    </tr>\n",
       "    <tr>\n",
       "      <th>7</th>\n",
       "      <td>86</td>\n",
       "      <td>1928</td>\n",
       "      <td>6</td>\n",
       "      <td>4</td>\n",
       "      <td>1</td>\n",
       "      <td>4,000+</td>\n",
       "      <td>$952.5+ million</td>\n",
       "      <td>\"Okeechobee\"</td>\n",
       "      <td>• Great Okeechobee Hurricane of 1928 (cat 5)</td>\n",
       "      <td>The Okeechobee hurricane is the only known hur...</td>\n",
       "      <td>None</td>\n",
       "    </tr>\n",
       "    <tr>\n",
       "      <th>8</th>\n",
       "      <td>79</td>\n",
       "      <td>1921</td>\n",
       "      <td>7</td>\n",
       "      <td>5</td>\n",
       "      <td>2</td>\n",
       "      <td>6</td>\n",
       "      <td>$36.5 million</td>\n",
       "      <td>\"Tampa Bay\"</td>\n",
       "      <td>• Hurricane San Pedro of 1921 (cat 3)  • Great...</td>\n",
       "      <td>None</td>\n",
       "      <td>None</td>\n",
       "    </tr>\n",
       "    <tr>\n",
       "      <th>9</th>\n",
       "      <td>82</td>\n",
       "      <td>1924</td>\n",
       "      <td>11</td>\n",
       "      <td>5</td>\n",
       "      <td>2</td>\n",
       "      <td>150+</td>\n",
       "      <td>Unknown</td>\n",
       "      <td>\"Cuba\"</td>\n",
       "      <td>• Great Cuba Hurricane of 1924 (cat 5)</td>\n",
       "      <td>The earliest officially classified Category 5 ...</td>\n",
       "      <td>None</td>\n",
       "    </tr>\n",
       "    <tr>\n",
       "      <th>10</th>\n",
       "      <td>84</td>\n",
       "      <td>1926</td>\n",
       "      <td>11</td>\n",
       "      <td>8</td>\n",
       "      <td>6</td>\n",
       "      <td>1,315+</td>\n",
       "      <td>$1.4+ billion</td>\n",
       "      <td>\"Miami\"</td>\n",
       "      <td>• The Great Bahamas Hurricane of 1926 (cat 4) ...</td>\n",
       "      <td>6 major hurricanes this year, 5 major landfalls</td>\n",
       "      <td>None</td>\n",
       "    </tr>\n",
       "  </tbody>\n",
       "</table>\n",
       "</div>"
      ],
      "text/plain": [
       "    0     1   2  3  4        5                6                     7   \\\n",
       "0   83  1925   4  2  0      59+    $19.9 million                   One   \n",
       "1   89  1930   3  2  2    8,000      $50 million  \"Dominican Republic\"   \n",
       "2   80  1922   5  3  1  Unknown          Unknown                   Two   \n",
       "3   87  1929   5  3  1       51     $9.0 million             \"Florida\"   \n",
       "4   78  1920   5  4  0        2   $15.75 million                   One   \n",
       "5   81  1923   9  4  1        0          Unknown                  Five   \n",
       "6   85  1927   8  4  1      184          Unknown         \"Nova Scotia\"   \n",
       "7   86  1928   6  4  1   4,000+  $952.5+ million          \"Okeechobee\"   \n",
       "8   79  1921   7  5  2        6    $36.5 million           \"Tampa Bay\"   \n",
       "9   82  1924  11  5  2     150+          Unknown                \"Cuba\"   \n",
       "10  84  1926  11  8  6   1,315+    $1.4+ billion               \"Miami\"   \n",
       "\n",
       "                                                   8   \\\n",
       "0                                                None   \n",
       "1      • Dominican Republic Hurricane of 1930 (cat 4)   \n",
       "2                                                None   \n",
       "3           • Great Bahamas Hurricane of 1929 (cat 4)   \n",
       "4                                                None   \n",
       "5                                                None   \n",
       "6             • Nova Scotia Hurricane of 1927 (cat 3)   \n",
       "7        • Great Okeechobee Hurricane of 1928 (cat 5)   \n",
       "8   • Hurricane San Pedro of 1921 (cat 3)  • Great...   \n",
       "9              • Great Cuba Hurricane of 1924 (cat 5)   \n",
       "10  • The Great Bahamas Hurricane of 1926 (cat 4) ...   \n",
       "\n",
       "                                                   9     10  \n",
       "0                                                None  None  \n",
       "1             The fifth deadliest hurricane on record  None  \n",
       "2                                                None  None  \n",
       "3                                                None  None  \n",
       "4                                                None  None  \n",
       "5                                                None  None  \n",
       "6                                                None  None  \n",
       "7   The Okeechobee hurricane is the only known hur...  None  \n",
       "8                                                None  None  \n",
       "9   The earliest officially classified Category 5 ...  None  \n",
       "10    6 major hurricanes this year, 5 major landfalls  None  "
      ]
     },
     "execution_count": 100,
     "metadata": {},
     "output_type": "execute_result"
    }
   ],
   "source": [
    "c.execute(\"Select * from atlantic_hurricanes where year between 1920 and 1930 order by num_tropical_storms,num_hurricanes\")\n",
    "pd.DataFrame(c.fetchall())"
   ]
  },
  {
   "cell_type": "markdown",
   "metadata": {},
   "source": [
    "2\\. What year had the most tropical storms?"
   ]
  },
  {
   "cell_type": "code",
   "execution_count": 103,
   "metadata": {},
   "outputs": [
    {
     "data": {
      "text/plain": [
       "[('1880',), ('1955',), ('2009',)]"
      ]
     },
     "execution_count": 103,
     "metadata": {},
     "output_type": "execute_result"
    }
   ],
   "source": [
    "c.execute(\"Select year from atlantic_hurricanes where num_tropical_storms = (select max(num_tropical_storms) from hurricanes)\")\n",
    "c.fetchall()"
   ]
  },
  {
   "cell_type": "markdown",
   "metadata": {},
   "source": [
    "3\\. What year had the most major hurricanes?"
   ]
  },
  {
   "cell_type": "code",
   "execution_count": 46,
   "metadata": {},
   "outputs": [],
   "source": [
    "for row in rows:\n",
    "    cols = row.find_all('td')\n",
    "    cols = [ele.text.strip() for ele in cols]\n",
    "    data.append([ele for ele in cols if ele]) # Get rid of empty values"
   ]
  },
  {
   "cell_type": "code",
   "execution_count": 107,
   "metadata": {},
   "outputs": [
    {
     "data": {
      "text/plain": [
       "[('1919',)]"
      ]
     },
     "execution_count": 107,
     "metadata": {},
     "output_type": "execute_result"
    }
   ],
   "source": [
    "c.execute(\"Select year from atlantic_hurricanes where num_major_hurricanes = (select max(num_major_hurricanes) from hurricanes)\")\n",
    "c.fetchall()"
   ]
  },
  {
   "cell_type": "markdown",
   "metadata": {},
   "source": [
    "4\\. What year had the most deaths?"
   ]
  },
  {
   "cell_type": "code",
   "execution_count": 108,
   "metadata": {},
   "outputs": [
    {
     "data": {
      "text/plain": [
       "[('1902',),\n",
       " ('1905',),\n",
       " ('1907',),\n",
       " ('1908',),\n",
       " ('1914',),\n",
       " ('1922',),\n",
       " ('1923',),\n",
       " ('1924',),\n",
       " ('1927',),\n",
       " ('1937',),\n",
       " ('1939',)]"
      ]
     },
     "execution_count": 108,
     "metadata": {},
     "output_type": "execute_result"
    }
   ],
   "source": [
    "c.execute(\"Select year from atlantic_hurricanes where deaths = (select max(deaths) from hurricanes)\")\n",
    "c.fetchall()"
   ]
  },
  {
   "cell_type": "markdown",
   "metadata": {},
   "source": [
    "5\\. What year had the most damage (not inflation adjusted)?"
   ]
  },
  {
   "cell_type": "code",
   "execution_count": 110,
   "metadata": {},
   "outputs": [
    {
     "data": {
      "text/plain": [
       "[('2018',)]"
      ]
     },
     "execution_count": 110,
     "metadata": {},
     "output_type": "execute_result"
    }
   ],
   "source": [
    "c.execute(\"Select year from atlantic_hurricanes where damage_usd = (select max(damage_usd) from hurricanes)\")\n",
    "c.fetchall()"
   ]
  },
  {
   "cell_type": "markdown",
   "metadata": {},
   "source": [
    "6\\. What year had the highest proportion of tropical storms turn into major hurricanes?"
   ]
  },
  {
   "cell_type": "code",
   "execution_count": 111,
   "metadata": {},
   "outputs": [
    {
     "data": {
      "text/plain": [
       "[('1878',)]"
      ]
     },
     "execution_count": 111,
     "metadata": {},
     "output_type": "execute_result"
    }
   ],
   "source": [
    "c.execute(\"Select year from atlantic_hurricanes where (num_tropical_storms/num_hurricanes) = (select max((num_tropical_storms/num_hurricanes)) from hurricanes)\")\n",
    "c.fetchall()"
   ]
  },
  {
   "cell_type": "markdown",
   "metadata": {},
   "source": [
    "## Things to think about\n",
    "\n",
    "1. What is the granularity of this data? (Are the rows the most specific observation possible?)\n",
    "2. What if this data were contained in worksheets in an Excel file? Find a Python library or libraries that work with Excel spreadsheets.\n",
    "3. Each section links to details about each hurricane season. Review each Season's page and discuss strategies for extracting the information for every hurricane.\n",
    "4. Hurricane tracking maps were recently added. How would you get and store those images?\n",
    "5. Damages are not inflation adjusted. How would you go about *enriching* your data with inflation adjusted dollars? Where should this additional data be stored and how would it be used?"
   ]
  },
  {
   "cell_type": "markdown",
   "metadata": {},
   "source": [
    "1. The rows are not the most specific observations possible. We can get more specific by looking at everything on a monthly or even daily basis. \n",
    "2. This would be so much easier (for me at least, since I'm an excel junkie). I believe Pandas already has a read_excel function that imports excel data as a dataframe, so it would be pretty simple to read everything after it's become a dataframe.\n",
    "3. Each page is separated into different hurricane numbers. We could potentially  extract information from the text of each subsection using Regex.\n",
    "4. The maps could be stored as arrays, and the paths could be analyzed.\n",
    "5. I guess the best way of getting inflation adjusted dollars is from the Bureau of Labor Statistics, and their Consumer Price Index. This would be the most common way of indexing inflation relative to common goods that everyone buys. "
   ]
  }
 ],
 "metadata": {
  "kernelspec": {
   "display_name": "Python 3",
   "language": "python",
   "name": "python3"
  },
  "language_info": {
   "codemirror_mode": {
    "name": "ipython",
    "version": 3
   },
   "file_extension": ".py",
   "mimetype": "text/x-python",
   "name": "python",
   "nbconvert_exporter": "python",
   "pygments_lexer": "ipython3",
   "version": "3.6.4"
  },
  "toc": {
   "colors": {
    "hover_highlight": "#DAA520",
    "navigate_num": "#000000",
    "navigate_text": "#333333",
    "running_highlight": "#FF0000",
    "selected_highlight": "#FFD700",
    "sidebar_border": "#EEEEEE",
    "wrapper_background": "#FFFFFF"
   },
   "moveMenuLeft": true,
   "nav_menu": {
    "height": "210px",
    "width": "252px"
   },
   "navigate_menu": true,
   "number_sections": true,
   "sideBar": true,
   "threshold": 4,
   "toc_cell": false,
   "toc_section_display": "block",
   "toc_window_display": false,
   "widenNotebook": false
  }
 },
 "nbformat": 4,
 "nbformat_minor": 1
}
