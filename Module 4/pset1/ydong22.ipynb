{
 "cells": [
  {
   "cell_type": "code",
   "execution_count": 1,
   "metadata": {
    "collapsed": true
   },
   "outputs": [],
   "source": [
    "%matplotlib inline"
   ]
  },
  {
   "cell_type": "markdown",
   "metadata": {},
   "source": [
    "# Problem Set 1\n",
    "\n",
    "## Directions\n",
    "\n",
    "1. Show all work/steps/calculations using a combination of code and Markdown. You will submit only this notebook named: [jhed_id].ipynb back to Blackboard from whence you downloaded it.\n",
    "2. **All** work is to be your own. This is not a group project. You may, however, use code from the lectures and labs. Provide citations for any code that is not your own. You may also consult Stackoverflow, etc. This is not by any means \"closed book\" or anything like that. Basically, I need to see if *you* learned the concepts from the Lectures, *Fundamentals*, and Labs.\n",
    "3. Add whatever markdown or code cells you need in each part to explain and calculate your answers. Don't just provide answers but explain them as well. **Explain and interpret your results.**"
   ]
  },
  {
   "cell_type": "markdown",
   "metadata": {},
   "source": [
    "## Manipulating and Interpreting Probability\n",
    "\n",
    "Given the following *joint probability distribution*, $P(A,B)$, for $A$ and $B$,\n",
    "\n",
    "\n",
    "|    | a1   | a2   |\n",
    "|----|------|------|\n",
    "| **b1** | 0.25 | 0.51 |\n",
    "| **b2** | 0.19 | ?    |\n",
    "\n",
    "Answer the following questions.\n",
    "\n",
    "**1\\. What is $P(A=a2, B=b2)$?**"
   ]
  },
  {
   "cell_type": "markdown",
   "metadata": {},
   "source": [
    "1-.51-.25-.19 = .05"
   ]
  },
  {
   "cell_type": "markdown",
   "metadata": {},
   "source": [
    "**2\\. If I observe events from this probability distribution, what is the probability of seeing (a1, b1) then (a2, b2)?**"
   ]
  },
  {
   "cell_type": "markdown",
   "metadata": {},
   "source": [
    "The probability would be P(a1,b1) * P(a2,b2) = .25 * .05 = .0125"
   ]
  },
  {
   "cell_type": "markdown",
   "metadata": {},
   "source": [
    "**3\\. Calculate the marginal probability distribution, $P(A)$.**"
   ]
  },
  {
   "cell_type": "markdown",
   "metadata": {},
   "source": [
    "P(A)\n",
    "\n",
    "P(a1) = .25 + .19 = .44\n",
    "\n",
    "P(a2) = .51 + .05 = .56"
   ]
  },
  {
   "cell_type": "markdown",
   "metadata": {},
   "source": [
    "**4\\. Calculate the marginal probability distribution, $P(B)$.**"
   ]
  },
  {
   "cell_type": "markdown",
   "metadata": {},
   "source": [
    "P(B)\n",
    "\n",
    "P(b1) = .25+.51 = .76\n",
    "\n",
    "P(b2) = .19 + .05 = .24"
   ]
  },
  {
   "cell_type": "markdown",
   "metadata": {},
   "source": [
    "**5\\. Calculate the conditional probability distribution, $P(A|B)$.**"
   ]
  },
  {
   "cell_type": "markdown",
   "metadata": {},
   "source": [
    "P(A|B)\n",
    "\n",
    "P(a1|b1) = .25/(.25+.51) = .329\n",
    "\n",
    "P(a2|b1) = .51/.76 = .671\n",
    "\n",
    "P(a1|b2) = .19/(.19+.05) = .792\n",
    "\n",
    "P(a2|b2) = .05/.24 = .208\n",
    "\n",
    "|    | a1   | a2   |\n",
    "|----|------|------|\n",
    "| **b1** | 0.329 | 0.671 |\n",
    "| **b2** | 0.792 | 0.208    |"
   ]
  },
  {
   "cell_type": "markdown",
   "metadata": {},
   "source": [
    "**6\\. Calculate the conditional probability distribution, $P(B|A)$.**"
   ]
  },
  {
   "cell_type": "markdown",
   "metadata": {},
   "source": [
    "P(B|A)\n",
    "\n",
    "P(b1|a1) = .25/(.25+.19) = .568\n",
    "\n",
    "P(b2|a1) = .19/(.25+.19) = .432\n",
    "\n",
    "P(b1|a2) = .51/(.51+.05) = .911\n",
    "\n",
    "P(b2|a2) = .05/.56 = .089\n",
    "\n",
    "|    | a1   | a2   |\n",
    "|----|------|------|\n",
    "| **b1** | 0.568 | 0.432 |\n",
    "| **b2** | 0.911 | 0.089    |"
   ]
  },
  {
   "cell_type": "markdown",
   "metadata": {},
   "source": [
    "**7\\. Does $P(A|B) = P(B|A)$? What do we call the belief that these are always equal?**"
   ]
  },
  {
   "cell_type": "markdown",
   "metadata": {},
   "source": [
    "No. We can see that P(b1|a1) != P(a1|b1). This fallacy is called the inverse probability fallacy. "
   ]
  },
  {
   "cell_type": "markdown",
   "metadata": {},
   "source": [
    "**8\\. Does $P(A) = P(A|B)$? What does that mean about the independence of $A$ and $B$?**"
   ]
  },
  {
   "cell_type": "markdown",
   "metadata": {},
   "source": [
    "If P(A) = P(A|B), then that means that A and B are independent of each other. In this case, P(a1) = .44 and P(a1|b1) = .329. This means that A and B are not independt of each other. "
   ]
  },
  {
   "cell_type": "markdown",
   "metadata": {},
   "source": [
    "**9\\. Using $P(A)$, $P(B|A)$, $P(B)$ from above, calculate,**\n",
    "\n",
    "$P(A|B) = \\frac{P(B|A)P(A)}{P(B)}$\n",
    "\n",
    "Does it match your previous calculation for $P(A|B)$?"
   ]
  },
  {
   "cell_type": "markdown",
   "metadata": {},
   "source": [
    "P(b1|a1) = .568\n",
    "\n",
    "P(a1) = .44\n",
    "\n",
    "P(b1) = .76\n",
    "\n",
    ".568 * .44 / .76 = .329\n",
    "\n",
    "Yes, the calculations match. "
   ]
  },
  {
   "cell_type": "markdown",
   "metadata": {
    "collapsed": true
   },
   "source": [
    "## Question 1 - Bayes Rule\n",
    "\n",
    "**Part 1.** There is a genetic condition that affects 2.3% of the population, C = {c, ~c}. Tests can detect the condition with 72.1% (true positive rate) but have a false positive rate of 20.3%, T={pos, neg}.\n",
    " \n",
    "If we want to know `P(C|T)`, write out Bayes Rule for this problem:"
   ]
  },
  {
   "cell_type": "markdown",
   "metadata": {},
   "source": [
    "$? = \\frac{? * ?}{?}$"
   ]
  },
  {
   "cell_type": "markdown",
   "metadata": {},
   "source": [
    "Using the values supplied in the description of the problem, specify all priors and likelihoods for the version of Bayes Rule you just wrote out:"
   ]
  },
  {
   "cell_type": "markdown",
   "metadata": {},
   "source": [
    "P(C|T) = P(T|C)* P(C)/P(T)\n",
    "\n",
    "P(c) = .023\n",
    "\n",
    "P(~c) = .977\n",
    "\n",
    "P(t|c) = .721\n",
    "\n",
    "P(~t|c) = .279\n",
    "\n",
    "P(t|~c) = .203\n",
    "\n",
    "P(~t|~c) = .797\n",
    "\n",
    "P(t) = P(t|c)\\* P(c) + P(t|~c) \\* P(~c) = .721\\*.023 + .203 \\* .977 = .215\n",
    "\n",
    "P(~t) = .785\n",
    "\n"
   ]
  },
  {
   "cell_type": "markdown",
   "metadata": {
    "collapsed": true
   },
   "source": [
    "Calculate `P(C|T)`. Please explain each individual probability and the difference between the prior and the posterior and the reason for the difference."
   ]
  },
  {
   "cell_type": "markdown",
   "metadata": {
    "collapsed": true
   },
   "source": [
    "P(c|t) = P(t|c) \\* P(c)/P(t) = .721\\*.023/.215 = .077\n",
    "\n",
    "P(c|~t) = P(~t|c) \\* P(c)/P(~t) = .279\\*.023/.785 = .008\n",
    "\n",
    "P(~c|t) = P(t|~c) \\* P(~c)/P(t) = .203\\*.977/.215 = .922\n",
    "\n",
    "P(~c|~t) = P(~t|~c) \\* P(~c)/P(~t) = .797\\*.977/.785 = .992\n",
    "\n",
    "P(c|t) means that there is a condition giving a positive test. It's only 7.7%, which suggests the test is worthless. The false positive rate P(~c|t) is 92.2%, meaning that someone is probably better off not taking the test.\n",
    "\n",
    "On the other hand, if you get a negative, it's very likely you don't have the condition, as there's only a .8% chance of testing negative if you in fact do have the condition. "
   ]
  },
  {
   "cell_type": "markdown",
   "metadata": {},
   "source": [
    "**Part 2.** Assume the true positive rate is 97.3% but the false positive rate is 37.2%. Recalculate P(C|T) and describe how the posterior distribution changes between Part 1 and Part 2 and *why*.\n",
    "\n"
   ]
  },
  {
   "cell_type": "markdown",
   "metadata": {
    "collapsed": true
   },
   "source": [
    "P(C|T) = P(T|C)* P(C)/P(T)\n",
    "\n",
    "P(c) = .023\n",
    "\n",
    "P(~c) = .977\n",
    "\n",
    "P(t|c) = .973\n",
    "\n",
    "P(~t|c) = .027\n",
    "\n",
    "P(t|~c) = .372\n",
    "\n",
    "P(~t|~c) = .628\n",
    "\n",
    "P(t) = P(t|c)\\* P(c) + P(t|~c) \\* P(~c) = .973\\*.023 + .372 \\* .977 = .386\n",
    "\n",
    "P(~t) = .614"
   ]
  },
  {
   "cell_type": "markdown",
   "metadata": {},
   "source": [
    "P(c|t) = P(t|c) \\* P(c)/P(t) = .973 \\*.023/.386 = .058\n",
    "\n",
    "P(c|~t) = P(~t|c) \\* P(c)/P(~t) = .027 \\*.023/.614 = .001\n",
    "\n",
    "P(~c|t) = P(t|~c) \\* P(~c)/P(t) = .372\\*.977/.386 = .942\n",
    "\n",
    "P(~c|~t) = P(~t|~c) \\* P(~c)/P(~t) = .628\\*.977/.614 = .999\n",
    "\n",
    "It becomes even more unlikely that you have the disease given that you test postive. This is because the overall number of false positive increases outweights the increase in true positive accuracy, because the base amount of people not having the condition is so much higher. "
   ]
  }
 ],
 "metadata": {
  "kernelspec": {
   "display_name": "Python 3",
   "language": "python",
   "name": "python3"
  },
  "language_info": {
   "codemirror_mode": {
    "name": "ipython",
    "version": 3
   },
   "file_extension": ".py",
   "mimetype": "text/x-python",
   "name": "python",
   "nbconvert_exporter": "python",
   "pygments_lexer": "ipython3",
   "version": "3.6.4"
  },
  "toc": {
   "colors": {
    "hover_highlight": "#DAA520",
    "navigate_num": "#000000",
    "navigate_text": "#333333",
    "running_highlight": "#FF0000",
    "selected_highlight": "#FFD700",
    "sidebar_border": "#EEEEEE",
    "wrapper_background": "#FFFFFF"
   },
   "moveMenuLeft": true,
   "nav_menu": {
    "height": "99px",
    "width": "252px"
   },
   "navigate_menu": true,
   "number_sections": true,
   "sideBar": true,
   "threshold": 4,
   "toc_cell": false,
   "toc_section_display": "block",
   "toc_window_display": false,
   "widenNotebook": false
  }
 },
 "nbformat": 4,
 "nbformat_minor": 1
}
